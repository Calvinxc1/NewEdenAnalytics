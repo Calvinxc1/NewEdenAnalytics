{
 "cells": [
  {
   "cell_type": "code",
   "execution_count": 1,
   "metadata": {},
   "outputs": [],
   "source": [
    "from Updater import SdeUpdater\n",
    "from processors.Names import NamesProcessor\n",
    "from processors.Types import TypesProcessor\n",
    "from processors.Map import MapProcessor\n",
    "from processors.IndustryActivity import IndustryActivityProcessor"
   ]
  },
  {
   "cell_type": "code",
   "execution_count": 2,
   "metadata": {},
   "outputs": [],
   "source": [
    "from processors.SDE import SdeProcessor\n",
    "\n",
    "class TypeMaterialsProcessor(SdeProcessor):\n",
    "    \"\"\"Processor for the invNames file in the EVE SDE\n",
    "    \n",
    "    Processor controlling the loading of all EVE SDE\n",
    "    item names. Draws from SdeProcessor.\n",
    "    \n",
    "    See SdeProcessor for Parameters & Attributes.\n",
    "    \"\"\"\n",
    "    \n",
    "    data_table = 'TypeMaterials'\n",
    "    file_path = 'bsd/invTypeMaterials.yaml'\n",
    "    renames = {\n",
    "        'typeID': 'type_id',\n",
    "        'materialTypeID': 'mat_type_id'\n",
    "    }"
   ]
  },
  {
   "cell_type": "code",
   "execution_count": 3,
   "metadata": {},
   "outputs": [
    {
     "name": "stdout",
     "output_type": "stream",
     "text": [
      "2019-10-11 02:09:31.563109 - Beginning SDE Update...\n",
      "2019-10-11 02:09:31.563245 - Clearing SDE Folder...\n",
      "2019-10-11 02:09:32.611493 - Getting SDE Data...\n",
      "2019-10-11 02:09:41.573816 - Starting Processors...\n",
      "----------------\n",
      "2019-10-11 02:09:41.574148 - Beginning TypeMaterialsProcessor...\n",
      "2019-10-11 02:09:41.574240 - Loading file...\n",
      "2019-10-11 02:09:46.686432 - Flattening data...\n"
     ]
    },
    {
     "data": {
      "application/vnd.jupyter.widget-view+json": {
       "model_id": "",
       "version_major": 2,
       "version_minor": 0
      },
      "text/plain": [
       "HBox(children=(IntProgress(value=0, max=43547), HTML(value='')))"
      ]
     },
     "metadata": {},
     "output_type": "display_data"
    },
    {
     "name": "stdout",
     "output_type": "stream",
     "text": [
      "2019-10-11 02:09:46.979726 - Constructing DataFrame...\n",
      "2019-10-11 02:09:47.075471 - Uploading data...\n"
     ]
    },
    {
     "data": {
      "application/vnd.jupyter.widget-view+json": {
       "model_id": "",
       "version_major": 2,
       "version_minor": 0
      },
      "text/plain": [
       "HBox(children=(IntProgress(value=0, max=5), HTML(value='')))"
      ]
     },
     "metadata": {},
     "output_type": "display_data"
    },
    {
     "name": "stdout",
     "output_type": "stream",
     "text": [
      "2019-10-11 02:09:47.899150 - TypeMaterialsProcessor complete.\n",
      "----------------\n",
      "2019-10-11 02:09:47.899392 - Clearing SDE Folder...\n",
      "2019-10-11 02:09:48.928370 - SDE Update Complete.\n"
     ]
    }
   ],
   "source": [
    "processors = [\n",
    "    NamesProcessor,\n",
    "    TypesProcessor,\n",
    "    MapProcessor,\n",
    "    IndustryActivityProcessor,\n",
    "    TypeMaterialsProcessor\n",
    "]\n",
    "\n",
    "sde = SdeUpdater(\n",
    "    processors,\n",
    "    sde_url='https://cdn1.eveonline.com/data/sde/tranquility/sde-20190911-2-TRANQUILITY.zip',\n",
    "    verbose=True,\n",
    "    diag=False\n",
    ")\n",
    "sde.run_process()"
   ]
  },
  {
   "cell_type": "code",
   "execution_count": null,
   "metadata": {},
   "outputs": [],
   "source": []
  }
 ],
 "metadata": {
  "kernelspec": {
   "display_name": "Python 3",
   "language": "python",
   "name": "python3"
  },
  "language_info": {
   "codemirror_mode": {
    "name": "ipython",
    "version": 3
   },
   "file_extension": ".py",
   "mimetype": "text/x-python",
   "name": "python",
   "nbconvert_exporter": "python",
   "pygments_lexer": "ipython3",
   "version": "3.7.3"
  }
 },
 "nbformat": 4,
 "nbformat_minor": 4
}
