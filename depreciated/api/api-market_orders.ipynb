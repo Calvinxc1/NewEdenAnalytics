{
 "cells": [
  {
   "cell_type": "code",
   "execution_count": 18,
   "metadata": {},
   "outputs": [],
   "source": [
    "import requests as rq\n",
    "import pymongo as pm\n",
    "import ujson as js\n",
    "import pandas as pd\n",
    "from datetime import datetime as dt\n",
    "\n",
    "from ApiHandler import ApiHandler"
   ]
  },
  {
   "cell_type": "code",
   "execution_count": 2,
   "metadata": {},
   "outputs": [],
   "source": [
    "class ApiMarketOrders(ApiHandler):\n",
    "    settings = {\n",
    "        **ApiHandler.settings,\n",
    "    }\n",
    "    url = {\n",
    "        **ApiHandler.url,\n",
    "        'data': 'https://esi.evetech.net/latest/corporations/{corp_id}/orders/'\n",
    "    }\n",
    "    script_vals = {\n",
    "        **ApiHandler.script_vals,\n",
    "        'table': 'Corp_MarketOrders',\n",
    "    }\n",
    "    name = 'ESI Market Orders API'\n",
    "    params = {}\n",
    "    auth = True\n",
    "    \n",
    "    def build_data(self, raw_data):\n",
    "        data_frame = pd.DataFrame(js.loads(raw_data))\n",
    "        data_frame['issued_corp'] = self.url_params['corp_id']\n",
    "        data_frame['issued'] = data_frame['issued'].apply(lambda x: dt.strptime(x, '%Y-%m-%dT%H:%M:%SZ').strftime('%Y-%m-%d %H:%M:%S'))\n",
    "        data_frame.rename(columns={'range':'order_range'}, inplace=True)\n",
    "        if 'is_buy_order' not in data_frame.columns: data_frame['is_buy_order'] = 0\n",
    "        else: data_frame['is_buy_order'] = data_frame['is_buy_order'].fillna(0)\n",
    "        data_frame['record_time'] = self.timestamp\n",
    "        return data_frame"
   ]
  },
  {
   "cell_type": "code",
   "execution_count": 32,
   "metadata": {},
   "outputs": [],
   "source": [
    "class ApiMarketOrdersHistory(ApiMarketOrders):\n",
    "    settings = {\n",
    "        **ApiMarketOrders.settings,\n",
    "    }\n",
    "    url = {\n",
    "        **ApiMarketOrders.url,\n",
    "        'data': 'https://esi.evetech.net/latest/corporations/{corp_id}/orders/history/'\n",
    "    }\n",
    "    sql = {\n",
    "        **ApiMarketOrders.sql,\n",
    "        'inactive_orders': \"\"\"\\\n",
    "            SELECT CorpOrders.order_id,\n",
    "                CorpOrders.record_time\n",
    "            FROM Corp_MarketOrders AS CorpOrders\n",
    "            WHERE CorpOrders.state != 'active'\n",
    "                AND CorpOrders.order_id IN ({order_ids})\n",
    "        ;\"\"\"\n",
    "    }\n",
    "    name = 'ESI Market Orders History API'\n",
    "    \n",
    "    def build_data(self, raw_data):\n",
    "        data_frame = super().build_data(raw_data)\n",
    "        inactive_orders = self.get_inactive_orders(data_frame['order_id'])\n",
    "        data_frame.loc[\n",
    "            data_frame['order_id'].isin(inactive_orders.index),\n",
    "            'record_time'\n",
    "        ] = data_frame.loc[\n",
    "            data_frame['order_id'].isin(inactive_orders.index),\n",
    "            'order_id'\n",
    "        ].map(inactive_orders)\n",
    "        return data_frame\n",
    "        \n",
    "    def get_inactive_orders(self, order_ids):\n",
    "        self.connect_maria()\n",
    "        sql_script = self.sql['inactive_orders'].format(order_ids=','.join(order_ids.astype(str)))\n",
    "        inactive_orders = pd.read_sql(\n",
    "            sql_script,\n",
    "            self.conn['maria'],\n",
    "            index_col='order_id'\n",
    "        )['record_time'].apply(lambda x: x.to_pydatetime().isoformat(' ')).replace('NaT', None)\n",
    "        self.conn['maria'].close()\n",
    "        return inactive_orders"
   ]
  },
  {
   "cell_type": "code",
   "execution_count": 4,
   "metadata": {},
   "outputs": [],
   "source": [
    "api = ApiMarketOrders()\n",
    "api.run_process()"
   ]
  },
  {
   "cell_type": "code",
   "execution_count": 33,
   "metadata": {},
   "outputs": [],
   "source": [
    "api = ApiMarketOrdersHistory()\n",
    "api.run_process()"
   ]
  },
  {
   "cell_type": "code",
   "execution_count": null,
   "metadata": {},
   "outputs": [],
   "source": []
  }
 ],
 "metadata": {
  "kernelspec": {
   "display_name": "Python 3",
   "language": "python",
   "name": "python3"
  },
  "language_info": {
   "codemirror_mode": {
    "name": "ipython",
    "version": 3
   },
   "file_extension": ".py",
   "mimetype": "text/x-python",
   "name": "python",
   "nbconvert_exporter": "python",
   "pygments_lexer": "ipython3",
   "version": "3.7.3"
  }
 },
 "nbformat": 4,
 "nbformat_minor": 4
}
