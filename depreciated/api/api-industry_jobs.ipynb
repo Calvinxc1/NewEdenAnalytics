{
 "cells": [
  {
   "cell_type": "code",
   "execution_count": 1,
   "metadata": {},
   "outputs": [],
   "source": [
    "import requests as rq\n",
    "import pymongo as pm\n",
    "import ujson as js\n",
    "import pandas as pd\n",
    "from datetime import datetime as dt\n",
    "\n",
    "from ApiHandler import ApiHandler"
   ]
  },
  {
   "cell_type": "code",
   "execution_count": 6,
   "metadata": {},
   "outputs": [],
   "source": [
    "class ApiIndustryJobs(ApiHandler):\n",
    "    settings = {\n",
    "        **ApiHandler.settings,\n",
    "    }\n",
    "    url = {\n",
    "        **ApiHandler.url,\n",
    "        'data': 'https://esi.evetech.net/latest/corporations/{corp_id}/industry/jobs/'\n",
    "    }\n",
    "    script_vals = {\n",
    "        **ApiHandler.script_vals,\n",
    "        'table': 'Corp_IndustryJobs',\n",
    "    }\n",
    "    name = 'ESI Industry Jobs API'\n",
    "    params = {'include_completed': True}\n",
    "    auth = True\n",
    "    delete = False\n",
    "\n",
    "    def build_data(self, raw_data):\n",
    "        data_frame = pd.DataFrame(js.loads(raw_data))\n",
    "        data_frame['corporation_id'] = self.url_params['corp_id']\n",
    "        for col in ('start_date', 'end_date', 'pause_date', 'completed_date'):\n",
    "            if col not in data_frame.columns: continue\n",
    "            data_frame[col] = data_frame[col].apply(lambda x: dt.strptime(\n",
    "                x,\n",
    "                '%Y-%m-%dT%H:%M:%SZ'\n",
    "            ).strftime('%Y-%m-%d %H:%M:%S') if pd.notnull(x) else None)\n",
    "        return data_frame"
   ]
  },
  {
   "cell_type": "code",
   "execution_count": 7,
   "metadata": {},
   "outputs": [],
   "source": [
    "api = ApiIndustryJobs()\n",
    "api.run_process()"
   ]
  }
 ],
 "metadata": {
  "kernelspec": {
   "display_name": "Python 3",
   "language": "python",
   "name": "python3"
  },
  "language_info": {
   "codemirror_mode": {
    "name": "ipython",
    "version": 3
   },
   "file_extension": ".py",
   "mimetype": "text/x-python",
   "name": "python",
   "nbconvert_exporter": "python",
   "pygments_lexer": "ipython3",
   "version": "3.7.3"
  }
 },
 "nbformat": 4,
 "nbformat_minor": 4
}
