{
 "cells": [
  {
   "cell_type": "code",
   "execution_count": 2,
   "metadata": {},
   "outputs": [],
   "source": [
    "import pandas as pd\n",
    "from datetime import datetime as dt\n",
    "import ujson as js\n",
    "\n",
    "from ApiHandler import ApiHandler"
   ]
  },
  {
   "cell_type": "code",
   "execution_count": 3,
   "metadata": {},
   "outputs": [],
   "source": [
    "class ApiServerStatus(ApiHandler):\n",
    "    settings = {\n",
    "        **ApiHandler.settings,\n",
    "    }\n",
    "    url = {\n",
    "        **ApiHandler.url,\n",
    "        'data': 'https://esi.evetech.net/latest/status/',\n",
    "    }\n",
    "    script_vals = {\n",
    "        **ApiHandler.script_vals,\n",
    "        'table': 'ServerStatus'\n",
    "    }\n",
    "    name = 'ESI Server Status API'\n",
    "    \n",
    "    def build_data(self, raw_data):\n",
    "        if self.verbose: self._verbose('build_data', 'Building data series...')\n",
    "        \n",
    "        data_series = pd.Series(js.loads(raw_data))\n",
    "        data_series['record_time'] = self.timestamp\n",
    "        data_series['start_time'] = dt.strptime(data_series['start_time'], '%Y-%m-%dT%H:%M:%SZ').strftime('%Y-%m-%d %H:%M:%S')\n",
    "        \n",
    "        if self.verbose: self._verbose('build_data', 'Data series built.')\n",
    "            \n",
    "        return data_series\n",
    "            \n",
    "    def data_inserter(self, data_series):\n",
    "        if self.verbose: self._verbose('data_inserter', 'Inserting record...')\n",
    "            \n",
    "        insert_script = self.sql['insert'].format(**{\n",
    "            'table': self.script_vals['table'],\n",
    "            'cols': ','.join(data_series.index),\n",
    "            'vals': ','.join(['%s']*data_series.index.size),\n",
    "            'upsert': ','.join(['{col}=VALUES({col})'.format(col=col) for col in data_series.index])\n",
    "        })\n",
    "        \n",
    "        cur = self.conn['maria'].cursor()\n",
    "        cur.execute(insert_script, data_series.values.tolist())\n",
    "        self.conn['maria'].commit()\n",
    "        cur.close()\n",
    "        \n",
    "        if self.verbose: self._verbose('data_inserter', 'Record inserted.')"
   ]
  },
  {
   "cell_type": "code",
   "execution_count": 4,
   "metadata": {},
   "outputs": [],
   "source": [
    "api = ApiServerStatus()\n",
    "api.run_process()"
   ]
  }
 ],
 "metadata": {
  "kernelspec": {
   "display_name": "Python 3",
   "language": "python",
   "name": "python3"
  },
  "language_info": {
   "codemirror_mode": {
    "name": "ipython",
    "version": 3
   },
   "file_extension": ".py",
   "mimetype": "text/x-python",
   "name": "python",
   "nbconvert_exporter": "python",
   "pygments_lexer": "ipython3",
   "version": "3.7.3"
  }
 },
 "nbformat": 4,
 "nbformat_minor": 2
}
