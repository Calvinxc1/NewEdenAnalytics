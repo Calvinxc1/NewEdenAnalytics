{
 "cells": [
  {
   "cell_type": "code",
   "execution_count": 1,
   "metadata": {},
   "outputs": [],
   "source": [
    "import requests as rq\n",
    "import pymongo as pm\n",
    "import ujson as js\n",
    "import pandas as pd\n",
    "from datetime import datetime as dt\n",
    "from multiprocessing.dummy import Pool\n",
    "\n",
    "from ApiHandler import ApiHandler"
   ]
  },
  {
   "cell_type": "code",
   "execution_count": 10,
   "metadata": {},
   "outputs": [],
   "source": [
    "class ApiRegionOrders(ApiHandler):\n",
    "    settings = {\n",
    "        **ApiHandler.settings,\n",
    "    }\n",
    "    url = {\n",
    "        **ApiHandler.url,\n",
    "        'data': 'https://esi.evetech.net/latest/markets/{region_id}/orders/'\n",
    "    }\n",
    "    sql = {\n",
    "        'insert': 'INSERT INTO {table} ({cols}) VALUES ({vals}) ON DUPLICATE KEY UPDATE {upsert};',\n",
    "        'delete': \"\"\"\\\n",
    "        DELETE FROM MarketOrders\n",
    "        WHERE system_id IN (\n",
    "                SELECT Sys.system_id\n",
    "                FROM MapSystems AS Sys\n",
    "                JOIN MapConstellations AS Const\n",
    "                    ON Sys.constellation_id = Const.constellation_id\n",
    "                WHERE Const.region_id = {region_id}\n",
    "            )\n",
    "            AND record_time != \"{time}\"\n",
    "        ;\"\"\"\n",
    "    }\n",
    "    script_vals = {\n",
    "        **ApiHandler.script_vals,\n",
    "        'table': 'MarketOrders',\n",
    "    }\n",
    "    name = 'ESI Region Orders API'\n",
    "    params = {'order_type': 'all'}\n",
    "    auth = False\n",
    "    delete = True\n",
    "    \n",
    "    def __init__(self, region_id, *args, **kwargs):\n",
    "        super().__init__(*args, **kwargs)\n",
    "        self.url_params['region_id'] = region_id\n",
    "        self.run_process()\n",
    "    \n",
    "    def build_data(self, raw_data):\n",
    "        if type(raw_data) is list:\n",
    "            data_frame = pd.concat([pd.DataFrame(js.loads(raw)) for raw in raw_data], axis=0)\n",
    "        else:\n",
    "            data_frame = pd.DataFrame(js.loads(raw_data))\n",
    "        data_frame['record_time'] = self.timestamp\n",
    "        data_frame['issued'] = data_frame['issued'].apply(lambda x: dt.strptime(x, '%Y-%m-%dT%H:%M:%SZ').strftime('%Y-%m-%d %H:%M:%S'))\n",
    "        data_frame.rename(columns={'range': 'order_range'}, inplace=True)\n",
    "        return data_frame\n",
    "    \n",
    "    def data_inserter(self, data_frame):\n",
    "        if self.verbose: self._verbose('insert_data', 'Inserting records...')\n",
    "        \n",
    "        insert_script = self.sql['insert'].format(**{\n",
    "            'table': self.script_vals['table'],\n",
    "            'cols': ','.join(data_frame.columns),\n",
    "            'vals': ','.join(['%s']*data_frame.columns.size),\n",
    "            'upsert': ','.join(['{col}=VALUES({col})'.format(col=col) for col in data_frame.columns])\n",
    "        })\n",
    "        \n",
    "        cur = self.conn['maria'].cursor()\n",
    "        \n",
    "        for row in data_frame.itertuples():\n",
    "            cur.execute(\n",
    "                insert_script,\n",
    "                [val if pd.notnull(val) else None for val in row[1:]]\n",
    "            )\n",
    "        self.conn['maria'].commit()\n",
    "        \n",
    "        if self.delete:\n",
    "            if self.verbose: self._verbose('insert_data', 'Deleting old records...')\n",
    "            delete_script = self.sql['delete'].format(**{\n",
    "                'table': self.script_vals['table'],\n",
    "                'region_id': self.url_params['region_id'],\n",
    "                'time': dt.strptime(self.timestamp, '%Y-%m-%d %H:%M:%S')\n",
    "            })\n",
    "            cur.execute(delete_script)\n",
    "            self.conn['maria'].commit()\n",
    "        \n",
    "        cur.close()\n",
    "        \n",
    "        if self.verbose: self._verbose('insert_data', 'Records inserted.')"
   ]
  },
  {
   "cell_type": "code",
   "execution_count": 11,
   "metadata": {},
   "outputs": [
    {
     "data": {
      "text/plain": [
       "[<__main__.ApiRegionOrders at 0x7f3e1a151c50>,\n",
       " <__main__.ApiRegionOrders at 0x7f3e062145f8>]"
      ]
     },
     "execution_count": 11,
     "metadata": {},
     "output_type": "execute_result"
    }
   ],
   "source": [
    "pool = Pool(processes=2)\n",
    "[\n",
    "    pool.apply(ApiRegionOrders, args=(region,))\n",
    "    for region in (10000043, 10000052)\n",
    "]"
   ]
  },
  {
   "cell_type": "code",
   "execution_count": null,
   "metadata": {},
   "outputs": [],
   "source": []
  }
 ],
 "metadata": {
  "kernelspec": {
   "display_name": "Python 3",
   "language": "python",
   "name": "python3"
  },
  "language_info": {
   "codemirror_mode": {
    "name": "ipython",
    "version": 3
   },
   "file_extension": ".py",
   "mimetype": "text/x-python",
   "name": "python",
   "nbconvert_exporter": "python",
   "pygments_lexer": "ipython3",
   "version": "3.7.3"
  }
 },
 "nbformat": 4,
 "nbformat_minor": 4
}
