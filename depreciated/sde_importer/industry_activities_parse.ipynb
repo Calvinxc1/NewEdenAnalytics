{
 "cells": [
  {
   "cell_type": "code",
   "execution_count": 1,
   "metadata": {},
   "outputs": [],
   "source": [
    "from parser_root import ParserRoot"
   ]
  },
  {
   "cell_type": "code",
   "execution_count": 2,
   "metadata": {},
   "outputs": [],
   "source": [
    "class ParserIndActs(ParserRoot):\n",
    "    file_path = 'sde/bsd'\n",
    "    file_name = 'ramActivities.yaml'\n",
    "    parse_structure = {\n",
    "        'root': {\n",
    "            'sequence': ('{SDE', 'activityID', 'activityName', 'description', 'published', 'iconNo'),\n",
    "            'sql': {\n",
    "                'table': 'IndustryActivities',\n",
    "                'cols': ('sde_version', 'activity_id', 'activity_name', 'activity_desc', 'published', 'icon_no')\n",
    "            }\n",
    "        }\n",
    "    }"
   ]
  },
  {
   "cell_type": "code",
   "execution_count": 3,
   "metadata": {},
   "outputs": [
    {
     "data": {
      "text/plain": [
       "<__main__.ParserIndActs at 0x7f0b3c189390>"
      ]
     },
     "execution_count": 3,
     "metadata": {},
     "output_type": "execute_result"
    }
   ],
   "source": [
    "ParserIndActs('sde-20180323-TRANQUILITY')"
   ]
  }
 ],
 "metadata": {
  "kernelspec": {
   "display_name": "Python 3",
   "language": "python",
   "name": "python3"
  },
  "language_info": {
   "codemirror_mode": {
    "name": "ipython",
    "version": 3
   },
   "file_extension": ".py",
   "mimetype": "text/x-python",
   "name": "python",
   "nbconvert_exporter": "python",
   "pygments_lexer": "ipython3",
   "version": "3.6.4"
  }
 },
 "nbformat": 4,
 "nbformat_minor": 2
}
