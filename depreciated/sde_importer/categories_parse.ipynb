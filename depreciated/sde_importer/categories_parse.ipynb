{
 "cells": [
  {
   "cell_type": "code",
   "execution_count": 1,
   "metadata": {},
   "outputs": [],
   "source": [
    "from parser_root import ParserRoot"
   ]
  },
  {
   "cell_type": "code",
   "execution_count": 7,
   "metadata": {},
   "outputs": [],
   "source": [
    "class ParserCategories(ParserRoot):\n",
    "    file_path = 'sde/fsd'\n",
    "    file_name = 'categoryIDs.yaml'\n",
    "    parse_structure = {\n",
    "        'root': {\n",
    "            'sequence': (\n",
    "                '{SDE', '{KEY_root', 'name.en', 'iconID',\n",
    "                'published'\n",
    "            ),\n",
    "            'sql': {\n",
    "                'table': 'TypeCategories',\n",
    "                'cols': (\n",
    "                    'sde_version', 'category_id', 'category_name', 'icon_id',\n",
    "                    'published'\n",
    "                )\n",
    "            }\n",
    "        }\n",
    "    }"
   ]
  },
  {
   "cell_type": "code",
   "execution_count": 8,
   "metadata": {},
   "outputs": [
    {
     "data": {
      "text/plain": [
       "<__main__.ParserCats at 0x7f89c31984a8>"
      ]
     },
     "execution_count": 8,
     "metadata": {},
     "output_type": "execute_result"
    }
   ],
   "source": [
    "ParserCategories('sde-20180323-TRANQUILITY')"
   ]
  }
 ],
 "metadata": {
  "kernelspec": {
   "display_name": "Python 3",
   "language": "python",
   "name": "python3"
  },
  "language_info": {
   "codemirror_mode": {
    "name": "ipython",
    "version": 3
   },
   "file_extension": ".py",
   "mimetype": "text/x-python",
   "name": "python",
   "nbconvert_exporter": "python",
   "pygments_lexer": "ipython3",
   "version": "3.6.4"
  }
 },
 "nbformat": 4,
 "nbformat_minor": 2
}
