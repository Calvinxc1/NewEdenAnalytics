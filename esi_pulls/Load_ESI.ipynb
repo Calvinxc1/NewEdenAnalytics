{
 "cells": [
  {
   "cell_type": "code",
   "execution_count": 1,
   "metadata": {},
   "outputs": [],
   "source": [
    "import os\n",
    "import shutil"
   ]
  },
  {
   "cell_type": "code",
   "execution_count": 2,
   "metadata": {},
   "outputs": [],
   "source": [
    "esi_folder = '/opt/esi_pulls'"
   ]
  },
  {
   "cell_type": "code",
   "execution_count": 3,
   "metadata": {},
   "outputs": [
    {
     "data": {
      "text/plain": [
       "'\\nfor item in os.listdir(esi_folder):\\n    path = os.path.join(esi_folder, item)\\n    if os.path.isdir(path) and not os.path.islink(path):\\n        shutil.rmtree(path)\\n    else:\\n        os.remove(path)\\n'"
      ]
     },
     "execution_count": 3,
     "metadata": {},
     "output_type": "execute_result"
    }
   ],
   "source": [
    "\"\"\"\n",
    "for item in os.listdir(esi_folder):\n",
    "    path = os.path.join(esi_folder, item)\n",
    "    if os.path.isdir(path) and not os.path.islink(path):\n",
    "        shutil.rmtree(path)\n",
    "    else:\n",
    "        os.remove(path)\n",
    "\"\"\""
   ]
  },
  {
   "cell_type": "code",
   "execution_count": 4,
   "metadata": {},
   "outputs": [
    {
     "name": "stdout",
     "output_type": "stream",
     "text": [
      "Copying ./run_controller.py\n",
      "Copying ./esi/__init__.py\n",
      "Copying ./esi/ApiController.py\n",
      "Copying ./esi/_constants/__init__.py\n",
      "Copying ./esi/_constants/constants.py\n",
      "Copying ./esi/utils/email.py\n",
      "Copying ./esi/utils/Container.py\n",
      "Copying ./esi/utils/__init__.py\n",
      "Copying ./esi/processes/CorpIndustryJobsApi.py\n",
      "Copying ./esi/processes/CorpMarketOrdersApi.py\n",
      "Copying ./esi/processes/CorpWalletJournalApi.py\n",
      "Copying ./esi/processes/ServerStatusApi.py\n",
      "Copying ./esi/processes/MarketPricesApi.py\n",
      "Copying ./esi/processes/SystemKillsApi.py\n",
      "Copying ./esi/processes/CorpWalletTransactionsApi.py\n",
      "Copying ./esi/processes/MarketHistoryApi.py\n",
      "Copying ./esi/processes/MarketOrdersApi.py\n",
      "Copying ./esi/processes/Api.py\n",
      "Copying ./esi/processes/__init__.py\n",
      "Copying ./esi/processes/SystemJumpsApi.py\n"
     ]
    }
   ],
   "source": [
    "for path, folders, files in os.walk('./'):\n",
    "    if (path.endswith('.ipynb_checkpoints')\n",
    "        | path.endswith('__pycache__')): continue\n",
    "    structure = os.path.join(esi_folder, path.replace('./', ''))\n",
    "    if (path != './') & (not os.path.exists(structure)):\n",
    "        print('Creating {path}...'.format(path=structure))\n",
    "        os.mkdir(structure)\n",
    "    \n",
    "    for file in files:\n",
    "        if file.endswith('.ipynb'): continue\n",
    "        print('Copying {file}'.format(file=os.path.join(path, file)))\n",
    "        shutil.copy(os.path.join(path, file), os.path.join(structure, file))\n",
    "        \n",
    "if not os.path.exists(os.path.join(esi_folder, 'settings')):\n",
    "    os.mkdir(os.path.join(esi_folder, 'settings'))\n",
    "for file in os.listdir('./../settings'):\n",
    "    shutil.copy(os.path.join('./../settings', file), os.path.join(esi_folder, 'settings', file))\n",
    "\n",
    "with open(os.path.join(esi_folder, 'esi/_constants/constants.py')) as file:\n",
    "    file_data = file.read()\n",
    "    \n",
    "with open(os.path.join(esi_folder, 'esi/_constants/constants.py'), 'w') as file:\n",
    "    file.write(file_data.replace('../settings', 'settings'))"
   ]
  },
  {
   "cell_type": "code",
   "execution_count": null,
   "metadata": {},
   "outputs": [],
   "source": []
  }
 ],
 "metadata": {
  "kernelspec": {
   "display_name": "Python 3",
   "language": "python",
   "name": "python3"
  },
  "language_info": {
   "codemirror_mode": {
    "name": "ipython",
    "version": 3
   },
   "file_extension": ".py",
   "mimetype": "text/x-python",
   "name": "python",
   "nbconvert_exporter": "python",
   "pygments_lexer": "ipython3",
   "version": "3.7.3"
  }
 },
 "nbformat": 4,
 "nbformat_minor": 4
}
