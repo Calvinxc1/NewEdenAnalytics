{
 "cells": [
  {
   "cell_type": "code",
   "execution_count": 1,
   "metadata": {},
   "outputs": [],
   "source": [
    "import pandas as pd\n",
    "from datetime import datetime as dt\n",
    "\n",
    "from esi.processes.Api import Api"
   ]
  },
  {
   "cell_type": "code",
   "execution_count": 2,
   "metadata": {},
   "outputs": [],
   "source": [
    "RENAMES = {\n",
    "    'timestamp': 'record_time',\n",
    "    'state': 'order_state',\n",
    "    'is_buy_order': 'is_buy',\n",
    "    'issued': 'issued_time',\n",
    "    'issued_by': 'issued_by_char',\n",
    "    'range': 'order_range',\n",
    "}\n",
    "TABLE = 'Corp_MarketOrders'\n",
    "URL = {\n",
    "    'main': 'corporations/{corp_id}/orders',\n",
    "    'history': 'corporations/{corp_id}/orders/history'\n",
    "}\n",
    "AUTH = True\n",
    "PARAMS = {}"
   ]
  },
  {
   "cell_type": "code",
   "execution_count": 3,
   "metadata": {},
   "outputs": [],
   "source": [
    "class CorpMarketOrdersApi(Api):\n",
    "    def __init__(self, verbose=False):\n",
    "        super().__init__(auth=AUTH, renames=RENAMES, table=TABLE, url=URL, verbose=verbose, params=PARAMS)\n",
    "        \n",
    "    def _get_raw_data(self):\n",
    "        self._msg('Getting raw data...')\n",
    "        headers = {'Authorization': self.auth_data['Authorization']} if self.auth else {}\n",
    "        raw_data_items = []\n",
    "        for url_key in self.url.keys():\n",
    "            if url_key == 'root': continue\n",
    "            url = self._build_url(url_key)\n",
    "            raw_data_items.extend(self._esi_pull(url, headers=headers))\n",
    "        return raw_data_items\n",
    "        \n",
    "    def _build_url(self, url_name:str):\n",
    "        url = '{root}/{path}'.format(root=self.url['root'], path=self.url[url_name]).format(corp_id=self.auth_data['corp_id'])\n",
    "        return url\n",
    "    \n",
    "    def _clean_data(self, parsed_data:pd.DataFrame):\n",
    "        parsed_data['order_state'] = parsed_data['order_state'].fillna('active')\n",
    "        parsed_data['is_buy'] = parsed_data['is_buy'].fillna(False)\n",
    "        parsed_data['issued_time'] = parsed_data['issued_time'].apply(lambda x: dt.strptime(x, '%Y-%m-%dT%H:%M:%SZ'))\n",
    "        parsed_data['corporation_id'] = self.auth_data['corp_id']\n",
    "        return parsed_data\n",
    "    \n",
    "    def _load_etags(self, esi_record:list):\n",
    "        self.esi_record = pd.DataFrame(self.esi_record).drop_duplicates().reset_index(drop=True)\n",
    "        self._insert_data(self.esi_record, self.etag_table, upsert=True)\n",
    "        expires = self.esi_record['expires'].min().to_pydatetime()\n",
    "        return expires"
   ]
  },
  {
   "cell_type": "code",
   "execution_count": 4,
   "metadata": {},
   "outputs": [
    {
     "data": {
      "text/plain": [
       "datetime.datetime(2019, 10, 19, 14, 3, 57)"
      ]
     },
     "execution_count": 4,
     "metadata": {},
     "output_type": "execute_result"
    }
   ],
   "source": [
    "api = CorpMarketOrdersApi()\n",
    "api.run_process()"
   ]
  },
  {
   "cell_type": "code",
   "execution_count": null,
   "metadata": {},
   "outputs": [],
   "source": []
  }
 ],
 "metadata": {
  "kernelspec": {
   "display_name": "Python 3",
   "language": "python",
   "name": "python3"
  },
  "language_info": {
   "codemirror_mode": {
    "name": "ipython",
    "version": 3
   },
   "file_extension": ".py",
   "mimetype": "text/x-python",
   "name": "python",
   "nbconvert_exporter": "python",
   "pygments_lexer": "ipython3",
   "version": "3.7.3"
  }
 },
 "nbformat": 4,
 "nbformat_minor": 4
}
