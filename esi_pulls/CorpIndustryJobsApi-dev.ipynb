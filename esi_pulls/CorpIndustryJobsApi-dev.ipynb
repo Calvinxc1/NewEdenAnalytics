{
 "cells": [
  {
   "cell_type": "code",
   "execution_count": 1,
   "metadata": {},
   "outputs": [],
   "source": [
    "import pandas as pd\n",
    "from datetime import datetime as dt\n",
    "\n",
    "from processes.Api import Api"
   ]
  },
  {
   "cell_type": "code",
   "execution_count": 2,
   "metadata": {},
   "outputs": [],
   "source": [
    "RENAMES = {\n",
    "    'timestamp': 'record_time',\n",
    "    'blueprint_id': 'blueprint_item_id',\n",
    "    'installer_id': 'installer_character_id',\n",
    "}\n",
    "TABLE = 'Corp_IndustryJobs'\n",
    "URL = {'main': 'corporations/{corp_id}/industry/jobs'}\n",
    "AUTH = True\n",
    "PARAMS = {'include_completed': True}"
   ]
  },
  {
   "cell_type": "code",
   "execution_count": 3,
   "metadata": {},
   "outputs": [],
   "source": [
    "class CorpIndustryJobsApi(Api):\n",
    "    def __init__(self, verbose=False):\n",
    "        super().__init__(auth=AUTH, renames=RENAMES, table=TABLE, url=URL, verbose=verbose, params=PARAMS)\n",
    "        \n",
    "    def _build_url(self, url_name:str):\n",
    "        url = '{root}/{path}'.format(root=self.url['root'], path=self.url[url_name]).format(corp_id=self.auth_data['corp_id'])\n",
    "        return url\n",
    "    \n",
    "    def _clean_data(self, parsed_data:pd.DataFrame):\n",
    "        for col in ('start_date', 'pause_date', 'end_date', 'completed_date'):\n",
    "            if col in parsed_data.columns:\n",
    "                parsed_data[col] = parsed_data[col].apply(\n",
    "                    lambda x: dt.strptime(x, '%Y-%m-%dT%H:%M:%SZ') if pd.notnull(x) else None\n",
    "                )\n",
    "            \n",
    "        parsed_data['corporation_id'] = self.auth_data['corp_id']\n",
    "        return parsed_data"
   ]
  },
  {
   "cell_type": "code",
   "execution_count": 4,
   "metadata": {},
   "outputs": [],
   "source": [
    "api = CorpIndustryJobsApi()\n",
    "api.run_process()"
   ]
  },
  {
   "cell_type": "code",
   "execution_count": null,
   "metadata": {},
   "outputs": [],
   "source": []
  }
 ],
 "metadata": {
  "kernelspec": {
   "display_name": "Python 3",
   "language": "python",
   "name": "python3"
  },
  "language_info": {
   "codemirror_mode": {
    "name": "ipython",
    "version": 3
   },
   "file_extension": ".py",
   "mimetype": "text/x-python",
   "name": "python",
   "nbconvert_exporter": "python",
   "pygments_lexer": "ipython3",
   "version": "3.7.3"
  }
 },
 "nbformat": 4,
 "nbformat_minor": 4
}
