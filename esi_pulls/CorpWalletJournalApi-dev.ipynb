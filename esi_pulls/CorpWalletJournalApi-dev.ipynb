{
 "cells": [
  {
   "cell_type": "code",
   "execution_count": 94,
   "metadata": {},
   "outputs": [],
   "source": [
    "import pandas as pd\n",
    "from datetime import datetime as dt\n",
    "\n",
    "from processes.Api import Api"
   ]
  },
  {
   "cell_type": "code",
   "execution_count": 117,
   "metadata": {},
   "outputs": [],
   "source": [
    "RENAMES = {\n",
    "    'timestamp': 'record_time',\n",
    "    'id': 'journal_id',\n",
    "    'date': 'journal_date',\n",
    "    'description': 'journal_desc'\n",
    "}\n",
    "TABLE = 'Corp_WalletJournal'\n",
    "URL = {'main': 'corporations/{corp_id}/wallets/{division}/journal'}\n",
    "AUTH = True\n",
    "PARAMS = {}"
   ]
  },
  {
   "cell_type": "code",
   "execution_count": 118,
   "metadata": {},
   "outputs": [],
   "source": [
    "class CorpWalletJournalApi(Api):\n",
    "    def __init__(self, verbose=False):\n",
    "        super().__init__(auth=AUTH, renames=RENAMES, table=TABLE, url=URL, verbose=verbose, params=PARAMS)\n",
    "        \n",
    "    def _get_raw_data(self):\n",
    "        self._msg('Getting raw data...')\n",
    "        raw_data_items = []\n",
    "        headers = {'Authorization': self.auth_data['Authorization']} if self.auth else {}\n",
    "        for division in range(1, 8):\n",
    "            url = self._build_url('main').format(corp_id=self.auth_data['corp_id'], division=division)\n",
    "            data_units = self._esi_pull(url, headers=headers)\n",
    "            for data_unit in data_units:\n",
    "                for record in data_unit.data:\n",
    "                    record.update({'division': division})\n",
    "            raw_data_items.extend(data_units)\n",
    "        return raw_data_items\n",
    "    \n",
    "    def _clean_data(self, parsed_data:pd.DataFrame):\n",
    "        parsed_data['journal_date'] = parsed_data['journal_date'].apply(lambda x: dt.strptime(x, '%Y-%m-%dT%H:%M:%SZ'))\n",
    "        parsed_data['corporation_id'] = self.auth_data['corp_id']\n",
    "        return parsed_data"
   ]
  },
  {
   "cell_type": "code",
   "execution_count": 119,
   "metadata": {},
   "outputs": [
    {
     "data": {
      "text/plain": [
       "datetime.datetime(2019, 10, 16, 5, 1, 25)"
      ]
     },
     "execution_count": 119,
     "metadata": {},
     "output_type": "execute_result"
    }
   ],
   "source": [
    "api = CorpWalletJournalApi()\n",
    "api.run_process()"
   ]
  },
  {
   "cell_type": "code",
   "execution_count": null,
   "metadata": {},
   "outputs": [],
   "source": []
  }
 ],
 "metadata": {
  "kernelspec": {
   "display_name": "Python 3",
   "language": "python",
   "name": "python3"
  },
  "language_info": {
   "codemirror_mode": {
    "name": "ipython",
    "version": 3
   },
   "file_extension": ".py",
   "mimetype": "text/x-python",
   "name": "python",
   "nbconvert_exporter": "python",
   "pygments_lexer": "ipython3",
   "version": "3.7.3"
  }
 },
 "nbformat": 4,
 "nbformat_minor": 4
}
