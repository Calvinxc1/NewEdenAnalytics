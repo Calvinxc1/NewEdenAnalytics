{
 "cells": [
  {
   "cell_type": "code",
   "execution_count": 1,
   "metadata": {},
   "outputs": [],
   "source": [
    "from esi import ApiController, processes as proc\n",
    "from esi.utils import Container"
   ]
  },
  {
   "cell_type": "code",
   "execution_count": 2,
   "metadata": {},
   "outputs": [],
   "source": [
    "processes = [\n",
    "    Container(api=proc.MarketHistoryApi, expire_delay=600),\n",
    "    Container(api=proc.ServerStatusApi, expire_delay=1),\n",
    "    Container(api=proc.SystemJumpsApi, expire_delay=60),\n",
    "    Container(api=proc.SystemKillsApi, expire_delay=60),\n",
    "    Container(api=proc.MarketOrdersApi, expire_delay=3300),\n",
    "    Container(api=proc.MarketPricesApi, expire_delay=60),\n",
    "    Container(api=proc.CorpIndustryJobsApi, expire_delay=30),\n",
    "    Container(api=proc.CorpWalletJournalApi, expire_delay=60),\n",
    "    Container(api=proc.CorpWalletTransactionsApi, expire_delay=60),\n",
    "    Container(api=proc.CorpMarketOrdersApi, expire_delay=30),\n",
    "]"
   ]
  },
  {
   "cell_type": "code",
   "execution_count": 3,
   "metadata": {},
   "outputs": [
    {
     "name": "stdout",
     "output_type": "stream",
     "text": [
      "2019-10-16 11:36:23.781502:ApiController - Loading 7 processes...\n",
      "2019-10-16 11:36:23.799752:ApiController - Processes loaded.\n",
      "2019-10-16 11:36:23.841548:ApiController - Process SystemKillsApi endpoint expires at 2019-10-16 11:55:36. Sleeping thread for 1212.15849 seconds.\n",
      "2019-10-16 11:36:23.842740:ApiController - Process ServerStatusApi endpoint expires at 2019-10-16 11:00:59. Sleeping thread for -2123.842714 seconds.\n",
      "2019-10-16 11:36:23.842930:ServerStatusApi - Running Process...\n",
      "2019-10-16 11:36:23.896870:ApiController - Process SystemJumpsApi endpoint expires at 2019-10-16 11:44:27. Sleeping thread for 543.103167 seconds.\n",
      "2019-10-16 11:36:23.897528:ServerStatusApi - Getting raw data...\n",
      "2019-10-16 11:36:23.902961:ApiController - Process CorpIndustryJobsApi endpoint expires at 2019-10-16 11:00:36. Sleeping thread for -2117.902916 seconds.\n",
      "2019-10-16 11:36:23.903201:CorpIndustryJobsApi - Running Process...\n",
      "2019-10-16 11:36:23.972256:ApiController - Process MarketHistoryApi endpoint expires at 2019-10-16 11:05:00. Sleeping thread for -1283.972211 seconds.2019-10-16 11:36:23.972826:ApiController - Process MarketOrdersApi endpoint expires at 2019-10-16 10:55:05. Sleeping thread for 821.027204 seconds.\n",
      "\n",
      "2019-10-16 11:36:23.973165:MarketHistoryApi - Running Process...\n",
      "2019-10-16 11:36:24.025923:ApiController - Process MarketPricesApi endpoint expires at 2019-10-16 11:55:16. Sleeping thread for 1191.974107 seconds.\n",
      "2019-10-16 11:36:24.032095:MarketHistoryApi - Selecting Region IDs from MariaDB...\n"
     ]
    },
    {
     "data": {
      "application/vnd.jupyter.widget-view+json": {
       "model_id": "",
       "version_major": 2,
       "version_minor": 0
      },
      "text/plain": [
       "HBox(children=(IntProgress(value=0, max=1), HTML(value='')))"
      ]
     },
     "metadata": {},
     "output_type": "display_data"
    },
    {
     "name": "stdout",
     "output_type": "stream",
     "text": [
      "2019-10-16 11:36:24.049092:CorpIndustryJobsApi - Getting raw data...\n",
      "2019-10-16 11:36:24.117914:ServerStatusApi - Parsing raw data...\n",
      "2019-10-16 11:36:24.133022:ServerStatusApi - Inserting data...\n",
      "2019-10-16 11:36:24.202301:ServerStatusApi - Inserting data...\n"
     ]
    },
    {
     "data": {
      "application/vnd.jupyter.widget-view+json": {
       "model_id": "",
       "version_major": 2,
       "version_minor": 0
      },
      "text/plain": [
       "HBox(children=(IntProgress(value=0, max=1), HTML(value='')))"
      ]
     },
     "metadata": {},
     "output_type": "display_data"
    },
    {
     "name": "stdout",
     "output_type": "stream",
     "text": [
      "2019-10-16 11:36:24.248331:ServerStatusApi - Process complete.\n",
      "2019-10-16 11:36:24.255545:ApiController - Process ServerStatusApi endpoint expires at 2019-10-16 11:36:27. Sleeping thread for 3.744514 seconds.\n",
      "2019-10-16 11:36:24.272702:MarketHistoryApi - Retrieving Region Types from ESI...\n"
     ]
    },
    {
     "data": {
      "application/vnd.jupyter.widget-view+json": {
       "model_id": "8cb3cc73e55b49f7922a4f54734e9da7",
       "version_major": 2,
       "version_minor": 0
      },
      "text/plain": [
       "HBox(children=(IntProgress(value=0, max=106), HTML(value='')))"
      ]
     },
     "metadata": {},
     "output_type": "display_data"
    },
    {
     "name": "stdout",
     "output_type": "stream",
     "text": [
      "2019-10-16 11:36:24.637534:MarketHistoryApi - Parsing raw data...\n",
      "2019-10-16 11:36:25.039008:CorpIndustryJobsApi - Parsing raw data...\n",
      "2019-10-16 11:36:25.162736:CorpIndustryJobsApi - Inserting data...\n"
     ]
    },
    {
     "data": {
      "application/vnd.jupyter.widget-view+json": {
       "model_id": "",
       "version_major": 2,
       "version_minor": 0
      },
      "text/plain": [
       "HBox(children=(IntProgress(value=0, max=1), HTML(value='')))"
      ]
     },
     "metadata": {},
     "output_type": "display_data"
    },
    {
     "name": "stdout",
     "output_type": "stream",
     "text": [
      "2019-10-16 11:36:25.336730:CorpIndustryJobsApi - Inserting data...\n"
     ]
    },
    {
     "data": {
      "application/vnd.jupyter.widget-view+json": {
       "model_id": "",
       "version_major": 2,
       "version_minor": 0
      },
      "text/plain": [
       "HBox(children=(IntProgress(value=0, max=1), HTML(value='')))"
      ]
     },
     "metadata": {},
     "output_type": "display_data"
    },
    {
     "name": "stdout",
     "output_type": "stream",
     "text": [
      "2019-10-16 11:36:25.378875:CorpIndustryJobsApi - Process complete.\n",
      "2019-10-16 11:36:25.380181:ApiController - Process CorpIndustryJobsApi endpoint expires at 2019-10-16 11:41:24. Sleeping thread for 328.619848 seconds.\n",
      "2019-10-16 11:36:25.941290:MarketHistoryApi - Parsing raw data...\n",
      "2019-10-16 11:36:26.062399:MarketHistoryApi - Parsing raw data...\n",
      "2019-10-16 11:36:26.133301:MarketHistoryApi - Parsing raw data...\n",
      "2019-10-16 11:36:26.276530:MarketHistoryApi - Parsing raw data...\n",
      "2019-10-16 11:36:26.351536:MarketHistoryApi - Parsing raw data...\n",
      "2019-10-16 11:36:26.487674:MarketHistoryApi - Parsing raw data...\n",
      "2019-10-16 11:36:26.562347:MarketHistoryApi - Parsing raw data...\n",
      "2019-10-16 11:36:26.637197:MarketHistoryApi - Parsing raw data...\n",
      "2019-10-16 11:36:26.709255:MarketHistoryApi - Parsing raw data...\n",
      "2019-10-16 11:36:26.919407:MarketHistoryApi - Parsing raw data...\n",
      "2019-10-16 11:36:27.142830:MarketHistoryApi - Parsing raw data...\n",
      "2019-10-16 11:36:27.352976:MarketHistoryApi - Parsing raw data...\n",
      "2019-10-16 11:36:27.722969:MarketHistoryApi - Parsing raw data...\n",
      "2019-10-16 11:36:27.958169:MarketHistoryApi - Parsing raw data...\n",
      "2019-10-16 11:36:28.000453:ServerStatusApi - Running Process...\n",
      "2019-10-16 11:36:28.056944:ServerStatusApi - Getting raw data...\n",
      "2019-10-16 11:36:28.122570:ServerStatusApi - Parsing raw data...\n",
      "2019-10-16 11:36:28.131524:ServerStatusApi - Inserting data...\n"
     ]
    },
    {
     "data": {
      "application/vnd.jupyter.widget-view+json": {
       "model_id": "",
       "version_major": 2,
       "version_minor": 0
      },
      "text/plain": [
       "HBox(children=(IntProgress(value=0, max=1), HTML(value='')))"
      ]
     },
     "metadata": {},
     "output_type": "display_data"
    },
    {
     "name": "stdout",
     "output_type": "stream",
     "text": [
      "2019-10-16 11:36:28.178870:ServerStatusApi - Inserting data...\n"
     ]
    },
    {
     "data": {
      "application/vnd.jupyter.widget-view+json": {
       "model_id": "",
       "version_major": 2,
       "version_minor": 0
      },
      "text/plain": [
       "HBox(children=(IntProgress(value=0, max=1), HTML(value='')))"
      ]
     },
     "metadata": {},
     "output_type": "display_data"
    },
    {
     "name": "stdout",
     "output_type": "stream",
     "text": [
      "2019-10-16 11:36:28.224096:ServerStatusApi - Process complete.\n",
      "2019-10-16 11:36:28.225463:ApiController - Process ServerStatusApi endpoint expires at 2019-10-16 11:36:58. Sleeping thread for 30.774565 seconds.\n",
      "2019-10-16 11:36:28.577821:MarketHistoryApi - Parsing raw data...\n",
      "2019-10-16 11:36:28.703860:MarketHistoryApi - Parsing raw data...\n",
      "2019-10-16 11:36:28.948725:MarketHistoryApi - Parsing raw data...\n",
      "2019-10-16 11:36:29.108114:MarketHistoryApi - Parsing raw data...\n",
      "2019-10-16 11:36:29.512915:MarketHistoryApi - Parsing raw data...\n",
      "2019-10-16 11:36:29.666463:MarketHistoryApi - Parsing raw data...\n",
      "2019-10-16 11:36:29.875388:MarketHistoryApi - Parsing raw data...\n",
      "2019-10-16 11:36:30.157885:MarketHistoryApi - Parsing raw data...\n",
      "2019-10-16 11:36:30.462286:MarketHistoryApi - Parsing raw data...\n",
      "2019-10-16 11:36:30.621638:MarketHistoryApi - Parsing raw data...\n",
      "2019-10-16 11:36:30.896599:MarketHistoryApi - Parsing raw data...\n",
      "2019-10-16 11:36:31.041492:MarketHistoryApi - Parsing raw data...\n",
      "2019-10-16 11:36:31.777975:MarketHistoryApi - Parsing raw data...\n",
      "2019-10-16 11:36:32.084686:MarketHistoryApi - Parsing raw data...\n",
      "2019-10-16 11:36:33.161827:MarketHistoryApi - Parsing raw data...\n"
     ]
    }
   ],
   "source": [
    "control = ApiController(processes, verbose=True)\n",
    "control.launch_threads(control.processes)"
   ]
  },
  {
   "cell_type": "code",
   "execution_count": null,
   "metadata": {},
   "outputs": [],
   "source": []
  }
 ],
 "metadata": {
  "kernelspec": {
   "display_name": "Python 3",
   "language": "python",
   "name": "python3"
  },
  "language_info": {
   "codemirror_mode": {
    "name": "ipython",
    "version": 3
   },
   "file_extension": ".py",
   "mimetype": "text/x-python",
   "name": "python",
   "nbconvert_exporter": "python",
   "pygments_lexer": "ipython3",
   "version": "3.7.3"
  }
 },
 "nbformat": 4,
 "nbformat_minor": 4
}
