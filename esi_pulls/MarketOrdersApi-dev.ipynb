{
 "cells": [
  {
   "cell_type": "code",
   "execution_count": 1,
   "metadata": {},
   "outputs": [],
   "source": [
    "from Api import Api\n",
    "import pandas as pd\n",
    "from datetime import datetime as dt"
   ]
  },
  {
   "cell_type": "code",
   "execution_count": 2,
   "metadata": {},
   "outputs": [],
   "source": [
    "PURGE = True\n",
    "RENAMES = {'timestamp': 'record_time', 'range': 'order_range'}\n",
    "REGION_IDS = [10000002, 10000043, 10000052]\n",
    "TABLE = 'MarketOrders'\n",
    "URL = {'main': 'markets/{region_id}/orders'}"
   ]
  },
  {
   "cell_type": "code",
   "execution_count": 3,
   "metadata": {},
   "outputs": [],
   "source": [
    "class MarketOrdersApi(Api):\n",
    "    def __init__(self, verbose=False):\n",
    "        super().__init__(purge=PURGE, renames=RENAMES, table=TABLE, url=URL, verbose=verbose)\n",
    "        self.region_ids = REGION_IDS\n",
    "        \n",
    "    def _get_raw_data(self) -> list:\n",
    "        self._msg('Getting raw data...')\n",
    "        raw_data = []\n",
    "        for region_id in self.region_ids:\n",
    "            url = self._build_url('main').format(region_id=region_id)\n",
    "            raw_data_items = self._esi_pull(url)\n",
    "            raw_data.extend(raw_data_items)\n",
    "        return raw_data\n",
    "    \n",
    "    def _clean_data(self, parsed_data:pd.DataFrame) -> pd.DataFrame:\n",
    "        parsed_data['issued'] = parsed_data['issued'].apply(lambda x: dt.strptime(x, '%Y-%m-%dT%H:%M:%SZ'))\n",
    "        return parsed_data"
   ]
  },
  {
   "cell_type": "code",
   "execution_count": 4,
   "metadata": {},
   "outputs": [
    {
     "name": "stdout",
     "output_type": "stream",
     "text": [
      "2019-10-12 12:59:54.507276:MarketOrdersApi - Running Process...\n",
      "2019-10-12 12:59:54.507715:MarketOrdersApi - Getting raw data...\n",
      "2019-10-12 13:01:00.468184:MarketOrdersApi - Parsing raw data...\n",
      "2019-10-12 13:01:14.239917:MarketOrdersApi - Inserting data...\n"
     ]
    },
    {
     "data": {
      "application/vnd.jupyter.widget-view+json": {
       "model_id": "",
       "version_major": 2,
       "version_minor": 0
      },
      "text/plain": [
       "HBox(children=(IntProgress(value=0, max=45), HTML(value='')))"
      ]
     },
     "metadata": {},
     "output_type": "display_data"
    },
    {
     "name": "stdout",
     "output_type": "stream",
     "text": [
      "2019-10-12 13:01:44.937798:MarketOrdersApi - Inserting data...\n"
     ]
    },
    {
     "data": {
      "application/vnd.jupyter.widget-view+json": {
       "model_id": "",
       "version_major": 2,
       "version_minor": 0
      },
      "text/plain": [
       "HBox(children=(IntProgress(value=0, max=1), HTML(value='')))"
      ]
     },
     "metadata": {},
     "output_type": "display_data"
    },
    {
     "name": "stdout",
     "output_type": "stream",
     "text": [
      "2019-10-12 13:01:45.000523:MarketOrdersApi - Process complete.\n"
     ]
    },
    {
     "data": {
      "text/plain": [
       "datetime.datetime(2019, 10, 12, 13, 5, 33)"
      ]
     },
     "execution_count": 4,
     "metadata": {},
     "output_type": "execute_result"
    }
   ],
   "source": [
    "api = MarketOrdersApi(verbose=True)\n",
    "api.run_process()"
   ]
  }
 ],
 "metadata": {
  "kernelspec": {
   "display_name": "Python 3",
   "language": "python",
   "name": "python3"
  },
  "language_info": {
   "codemirror_mode": {
    "name": "ipython",
    "version": 3
   },
   "file_extension": ".py",
   "mimetype": "text/x-python",
   "name": "python",
   "nbconvert_exporter": "python",
   "pygments_lexer": "ipython3",
   "version": "3.7.3"
  }
 },
 "nbformat": 4,
 "nbformat_minor": 4
}
