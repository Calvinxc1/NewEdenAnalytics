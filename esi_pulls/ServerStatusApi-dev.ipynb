{
 "cells": [
  {
   "cell_type": "code",
   "execution_count": 2,
   "metadata": {},
   "outputs": [],
   "source": [
    "import pandas as pd\n",
    "from datetime import datetime as dt\n",
    "\n",
    "from processes.Api import Api\n",
    "from utils.Container import Container"
   ]
  },
  {
   "cell_type": "code",
   "execution_count": 3,
   "metadata": {},
   "outputs": [],
   "source": [
    "RENAMES = {'timestamp': 'record_time'}\n",
    "TABLE = 'ServerStatus'\n",
    "URL = {'main': 'status'}"
   ]
  },
  {
   "cell_type": "code",
   "execution_count": 4,
   "metadata": {},
   "outputs": [],
   "source": [
    "class ServerStatusApi(Api):\n",
    "    def __init__(self, verbose=False):\n",
    "        super().__init__(renames=RENAMES, table=TABLE, url=URL, verbose=verbose)\n",
    "    \n",
    "    def _parse_data_item(self, data_item:Container, renames:dict, **kwargs):\n",
    "        try:\n",
    "            data_frame = pd.DataFrame([data_item.data])\n",
    "        except Exception as e:\n",
    "            self._email('fail', data_item.data)\n",
    "            raise\n",
    "        for key in data_item:\n",
    "            if key == 'data': continue\n",
    "            data_frame[key] = data_item[key]\n",
    "\n",
    "        for key, val in kwargs.items():\n",
    "            data_frame[key] = val\n",
    "\n",
    "        data_frame.rename(columns=renames, inplace=True)\n",
    "        return data_frame\n",
    "    \n",
    "    def _clean_data(self, parsed_data:pd.DataFrame):\n",
    "        parsed_data['start_time'] = parsed_data['start_time'].apply(lambda x: dt.strptime(x, '%Y-%m-%dT%H:%M:%SZ'))\n",
    "        return parsed_data"
   ]
  },
  {
   "cell_type": "code",
   "execution_count": 5,
   "metadata": {},
   "outputs": [
    {
     "name": "stdout",
     "output_type": "stream",
     "text": [
      "2019-10-15 04:08:33.839770:ServerStatusApi - Running Process...\n",
      "2019-10-15 04:08:33.893017:ServerStatusApi - Getting raw data...\n",
      "2019-10-15 04:08:33.964157:ServerStatusApi - Parsing raw data...\n",
      "2019-10-15 04:08:33.976864:ServerStatusApi - Inserting data...\n"
     ]
    },
    {
     "data": {
      "application/vnd.jupyter.widget-view+json": {
       "model_id": "",
       "version_major": 2,
       "version_minor": 0
      },
      "text/plain": [
       "HBox(children=(IntProgress(value=0, max=1), HTML(value='')))"
      ]
     },
     "metadata": {},
     "output_type": "display_data"
    },
    {
     "name": "stdout",
     "output_type": "stream",
     "text": [
      "2019-10-15 04:08:34.026770:ServerStatusApi - Inserting data...\n"
     ]
    },
    {
     "data": {
      "application/vnd.jupyter.widget-view+json": {
       "model_id": "",
       "version_major": 2,
       "version_minor": 0
      },
      "text/plain": [
       "HBox(children=(IntProgress(value=0, max=1), HTML(value='')))"
      ]
     },
     "metadata": {},
     "output_type": "display_data"
    },
    {
     "name": "stdout",
     "output_type": "stream",
     "text": [
      "2019-10-15 04:08:34.065813:ServerStatusApi - Process complete.\n"
     ]
    },
    {
     "data": {
      "text/plain": [
       "datetime.datetime(2019, 10, 15, 4, 8, 46)"
      ]
     },
     "execution_count": 5,
     "metadata": {},
     "output_type": "execute_result"
    }
   ],
   "source": [
    "api = ServerStatusApi(verbose=True)\n",
    "api.run_process()"
   ]
  },
  {
   "cell_type": "code",
   "execution_count": null,
   "metadata": {},
   "outputs": [],
   "source": []
  }
 ],
 "metadata": {
  "kernelspec": {
   "display_name": "Python 3",
   "language": "python",
   "name": "python3"
  },
  "language_info": {
   "codemirror_mode": {
    "name": "ipython",
    "version": 3
   },
   "file_extension": ".py",
   "mimetype": "text/x-python",
   "name": "python",
   "nbconvert_exporter": "python",
   "pygments_lexer": "ipython3",
   "version": "3.7.3"
  }
 },
 "nbformat": 4,
 "nbformat_minor": 4
}
