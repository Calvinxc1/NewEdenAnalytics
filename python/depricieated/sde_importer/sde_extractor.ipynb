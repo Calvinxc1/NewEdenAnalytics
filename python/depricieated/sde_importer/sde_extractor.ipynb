{
 "cells": [
  {
   "cell_type": "code",
   "execution_count": 1,
   "metadata": {
    "collapsed": true
   },
   "outputs": [],
   "source": [
    "import requests as rq\n",
    "import zipfile as zf\n",
    "import io\n",
    "import shutil\n",
    "import os"
   ]
  },
  {
   "cell_type": "code",
   "execution_count": 2,
   "metadata": {
    "collapsed": true
   },
   "outputs": [],
   "source": [
    "def extract_sde(sde_file, root_url = 'https://cdn1.eveonline.com/data/sde/tranquility', extract_dir = 'sde'):\n",
    "    if extract_dir in os.listdir('.'): shutil.rmtree(extract_dir)\n",
    "    with rq.Session() as url_sess:\n",
    "        return_obj = url_sess.get('%s/%s' % (root_url, sde_file))\n",
    "        with zf.ZipFile(io.BytesIO(return_obj.content)) as zip_obj:\n",
    "            zip_obj.extractall()"
   ]
  },
  {
   "cell_type": "code",
   "execution_count": 3,
   "metadata": {
    "collapsed": true
   },
   "outputs": [],
   "source": [
    "extract_sde('sde-20180323-TRANQUILITY.zip')"
   ]
  }
 ],
 "metadata": {
  "kernelspec": {
   "display_name": "Python 3",
   "language": "python",
   "name": "python3"
  },
  "language_info": {
   "codemirror_mode": {
    "name": "ipython",
    "version": 3
   },
   "file_extension": ".py",
   "mimetype": "text/x-python",
   "name": "python",
   "nbconvert_exporter": "python",
   "pygments_lexer": "ipython3",
   "version": "3.6.3"
  }
 },
 "nbformat": 4,
 "nbformat_minor": 2
}
