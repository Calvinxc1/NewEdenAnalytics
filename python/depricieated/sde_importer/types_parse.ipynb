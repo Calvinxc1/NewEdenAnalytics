{
 "cells": [
  {
   "cell_type": "code",
   "execution_count": 1,
   "metadata": {
    "collapsed": true
   },
   "outputs": [],
   "source": [
    "from parser_root import ParserRoot"
   ]
  },
  {
   "cell_type": "code",
   "execution_count": 2,
   "metadata": {
    "collapsed": true
   },
   "outputs": [],
   "source": [
    "class ParserTypes(ParserRoot):\n",
    "    file_path = 'sde/fsd'\n",
    "    file_name = 'typeIDs.yaml'\n",
    "    parse_structure = {\n",
    "        'root': {\n",
    "            'sequence': (\n",
    "                '{SDE', '{KEY_root', 'name.en', 'description.en',\n",
    "                'factionID', 'graphicID', 'groupID', 'iconID',\n",
    "                'marketGroupID', 'raceID', 'soundID', 'basePrice',\n",
    "                'capacity', 'mass', 'portionSize', 'published',\n",
    "                'radius', 'volume', 'sofFactionName', 'sofMaterialSetID'\n",
    "            ),\n",
    "            'sql': {\n",
    "                'table': 'Types',\n",
    "                'cols': ('sde_version',\n",
    "                    'type_id', 'type_name', 'type_desc', 'faction_id',\n",
    "                    'graphic_id', 'group_id', 'icon_id', 'market_group_id',\n",
    "                    'race_id', 'sound_id', 'base_price', 'capacity',\n",
    "                    'mass', 'portion_size', 'published', 'radius',\n",
    "                    'volume', 'sof_faction_name', 'sof_material_set_id'\n",
    "                )\n",
    "            }\n",
    "        }\n",
    "    }"
   ]
  },
  {
   "cell_type": "code",
   "execution_count": 3,
   "metadata": {},
   "outputs": [
    {
     "data": {
      "text/plain": [
       "<__main__.ParserTypes at 0x18de37cb2e8>"
      ]
     },
     "execution_count": 3,
     "metadata": {},
     "output_type": "execute_result"
    }
   ],
   "source": [
    "ParserTypes('sde-20180323-TRANQUILITY')"
   ]
  }
 ],
 "metadata": {
  "kernelspec": {
   "display_name": "Python 3",
   "language": "python",
   "name": "python3"
  },
  "language_info": {
   "codemirror_mode": {
    "name": "ipython",
    "version": 3
   },
   "file_extension": ".py",
   "mimetype": "text/x-python",
   "name": "python",
   "nbconvert_exporter": "python",
   "pygments_lexer": "ipython3",
   "version": "3.6.3"
  }
 },
 "nbformat": 4,
 "nbformat_minor": 2
}
