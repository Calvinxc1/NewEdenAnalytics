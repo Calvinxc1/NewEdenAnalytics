{
 "cells": [
  {
   "cell_type": "code",
   "execution_count": 1,
   "metadata": {},
   "outputs": [],
   "source": [
    "import requests as rq\n",
    "import ujson as js\n",
    "import pandas as pd\n",
    "from datetime import datetime as dt\n",
    "\n",
    "from ApiHandler import ApiHandler"
   ]
  },
  {
   "cell_type": "code",
   "execution_count": 2,
   "metadata": {},
   "outputs": [],
   "source": [
    "class ApiSystemStats(ApiHandler):\n",
    "    settings = {\n",
    "        **ApiHandler.settings,\n",
    "        'data_timestamp': 'jumps_data'\n",
    "    }\n",
    "    url = {\n",
    "        **ApiHandler.url,\n",
    "        'jumps_data': 'https://esi.evetech.net/latest/universe/system_jumps/',\n",
    "        'kills_data': 'https://esi.evetech.net/latest/universe/system_kills/'\n",
    "    }\n",
    "    script_vals = {\n",
    "        **ApiHandler.script_vals,\n",
    "        'table': 'SystemStats'\n",
    "    }\n",
    "    name = 'ESI System Stats API'\n",
    "    timestamp = {}\n",
    "    \n",
    "    def get_raw_data(self):\n",
    "        if self.verbose: self._verbose('get_raw_data', 'Getting raw data for date {date}...'.format(**{'date':data_date}))\n",
    "        \n",
    "        raw_data = {\n",
    "            'jumps_data': self.get_data_item('jumps_data'),\n",
    "            'kills_data': self.get_data_item('kills_data')\n",
    "        }\n",
    "        \n",
    "        return raw_data\n",
    "    \n",
    "    def get_data_item(self, conn_type):\n",
    "        data_conn = rq.get(self.url[conn_type])\n",
    "        \n",
    "        if data_conn.status_code != 200:\n",
    "            raise Exception(\"\"\"\\\n",
    "                Connection {conn_type} returned a {status} code on pull for {date}.\n",
    "                Message body:\n",
    "                {body}\\\n",
    "            \"\"\".format(**{\n",
    "                'conn_type':conn_type,\n",
    "                'status':data_conn.status_code,\n",
    "                'date': date,\n",
    "                'body':data_conn.content.decode('utf-8')\n",
    "            }))\n",
    "        \n",
    "        self.timestamp[conn_type] = dt.strptime(\n",
    "            data_conn.headers['Last-Modified'],\n",
    "            '%a, %d %b %Y %H:%M:%S %Z'\n",
    "        ).strftime('%Y-%m-%d %H:%M:%S')\n",
    "        \n",
    "        return data_conn.content\n",
    "    \n",
    "    def build_data(self, raw_data):\n",
    "        if self.verbose: self._verbose('build_data', 'Building data frame...')\n",
    "        \n",
    "        data_frame = pd.DataFrame(js.loads(raw_data['jumps_data'])).set_index('system_id').join(\n",
    "            pd.DataFrame(js.loads(raw_data['kills_data'])).set_index('system_id'),\n",
    "            how = 'outer'\n",
    "        ).fillna(0).reset_index()\n",
    "        data_frame.insert(0, 'record_time', self.timestamp[self.settings['data_timestamp']])\n",
    "        \n",
    "        if self.verbose: self._verbose('build_data', 'Data frame built. %s records.' % len(data_frame))\n",
    "            \n",
    "        return data_frame"
   ]
  },
  {
   "cell_type": "code",
   "execution_count": 4,
   "metadata": {},
   "outputs": [],
   "source": [
    "api = ApiSystemStats()\n",
    "api.run_process()"
   ]
  },
  {
   "cell_type": "code",
   "execution_count": null,
   "metadata": {},
   "outputs": [],
   "source": []
  }
 ],
 "metadata": {
  "kernelspec": {
   "display_name": "Python 3",
   "language": "python",
   "name": "python3"
  },
  "language_info": {
   "codemirror_mode": {
    "name": "ipython",
    "version": 3
   },
   "file_extension": ".py",
   "mimetype": "text/x-python",
   "name": "python",
   "nbconvert_exporter": "python",
   "pygments_lexer": "ipython3",
   "version": "3.7.3"
  }
 },
 "nbformat": 4,
 "nbformat_minor": 2
}
