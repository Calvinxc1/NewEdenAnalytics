{
 "cells": [
  {
   "cell_type": "code",
   "execution_count": 1,
   "metadata": {},
   "outputs": [],
   "source": [
    "import requests as rq\n",
    "import pymongo as pm\n",
    "import ujson as js\n",
    "import pandas as pd\n",
    "\n",
    "from ApiHandler import ApiHandler"
   ]
  },
  {
   "cell_type": "code",
   "execution_count": 2,
   "metadata": {},
   "outputs": [],
   "source": [
    "class ApiBlueprints(ApiHandler):\n",
    "    settings = {\n",
    "        **ApiHandler.settings,\n",
    "    }\n",
    "    url = {\n",
    "        **ApiHandler.url,\n",
    "        'data': 'https://esi.evetech.net/latest/corporations/{corp_id}/blueprints/'\n",
    "    }\n",
    "    script_vals = {\n",
    "        **ApiHandler.script_vals,\n",
    "        'table': 'Corp_Blueprints',\n",
    "    }\n",
    "    name = 'ESI Blueprints API'\n",
    "    params = {}\n",
    "    auth = True\n",
    "    delete = False\n",
    "    \n",
    "    def build_data(self, raw_data):\n",
    "        data_frame = pd.concat([pd.DataFrame(js.loads(data)) for data in raw_data], axis=0)\n",
    "        data_frame['record_time'] = self.timestamp\n",
    "        data_frame['corporation_id'] = self.url_params['corp_id']\n",
    "        return data_frame"
   ]
  },
  {
   "cell_type": "code",
   "execution_count": 3,
   "metadata": {},
   "outputs": [],
   "source": [
    "api = ApiBlueprints()\n",
    "api.run_process()"
   ]
  },
  {
   "cell_type": "code",
   "execution_count": null,
   "metadata": {},
   "outputs": [],
   "source": []
  }
 ],
 "metadata": {
  "kernelspec": {
   "display_name": "Python 3",
   "language": "python",
   "name": "python3"
  },
  "language_info": {
   "codemirror_mode": {
    "name": "ipython",
    "version": 3
   },
   "file_extension": ".py",
   "mimetype": "text/x-python",
   "name": "python",
   "nbconvert_exporter": "python",
   "pygments_lexer": "ipython3",
   "version": "3.7.3"
  }
 },
 "nbformat": 4,
 "nbformat_minor": 2
}
