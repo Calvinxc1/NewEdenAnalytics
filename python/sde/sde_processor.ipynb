{
 "cells": [
  {
   "cell_type": "code",
   "execution_count": 1,
   "metadata": {},
   "outputs": [],
   "source": [
    "from Updater import SdeUpdater\n",
    "from processors.Names import NamesProcessor\n",
    "from processors.Types import TypesProcessor\n",
    "from processors.TypeGroups import TypeGroupsProcessor\n",
    "from processors.TypeCategories import TypeCategoriesProcessor\n",
    "from processors.TypeMarketGroups import TypeMarketGroupsProcessor\n",
    "from processors.Map import MapProcessor\n",
    "from processors.IndustryActivity import IndustryActivityProcessor"
   ]
  },
  {
   "cell_type": "code",
   "execution_count": 2,
   "metadata": {},
   "outputs": [
    {
     "name": "stdout",
     "output_type": "stream",
     "text": [
      "2019-09-30 01:59:43.056076 - Beginning SDE Update...\n",
      "2019-09-30 01:59:43.057268 - Clearing SDE Folder...\n",
      "2019-09-30 01:59:44.164132 - Getting SDE Data...\n",
      "2019-09-30 01:59:53.823829 - Starting Processors...\n",
      "----------------\n",
      "2019-09-30 01:59:53.824098 - Beginning TypeMarketGroupsProcessor...\n",
      "2019-09-30 01:59:53.824141 - Loading file...\n"
     ]
    },
    {
     "data": {
      "application/vnd.jupyter.widget-view+json": {
       "model_id": "",
       "version_major": 2,
       "version_minor": 0
      },
      "text/plain": [
       "HBox(children=(IntProgress(value=0, max=1865), HTML(value='')))"
      ]
     },
     "metadata": {},
     "output_type": "display_data"
    },
    {
     "name": "stdout",
     "output_type": "stream",
     "text": [
      "2019-09-30 01:59:54.837211 - Flattening data...\n"
     ]
    },
    {
     "data": {
      "application/vnd.jupyter.widget-view+json": {
       "model_id": "",
       "version_major": 2,
       "version_minor": 0
      },
      "text/plain": [
       "HBox(children=(IntProgress(value=0, max=1865), HTML(value='')))"
      ]
     },
     "metadata": {},
     "output_type": "display_data"
    },
    {
     "name": "stdout",
     "output_type": "stream",
     "text": [
      "2019-09-30 01:59:54.908814 - Constructing DataFrame...\n",
      "2019-09-30 01:59:54.922014 - Uploading data...\n"
     ]
    },
    {
     "data": {
      "application/vnd.jupyter.widget-view+json": {
       "model_id": "",
       "version_major": 2,
       "version_minor": 0
      },
      "text/plain": [
       "HBox(children=(IntProgress(value=0, max=1), HTML(value='')))"
      ]
     },
     "metadata": {},
     "output_type": "display_data"
    },
    {
     "name": "stdout",
     "output_type": "stream",
     "text": [
      "2019-09-30 01:59:55.795054 - TypeMarketGroupsProcessor complete.\n",
      "----------------\n",
      "2019-09-30 01:59:55.796052 - Clearing SDE Folder...\n",
      "2019-09-30 01:59:56.911716 - SDE Update Complete.\n"
     ]
    }
   ],
   "source": [
    "processors = [\n",
    "    #NamesProcessor,\n",
    "    #TypesProcessor,\n",
    "    #TypeGroupsProcessor,\n",
    "    #TypeCategoriesProcessor,\n",
    "    #MapProcessor,\n",
    "    #IndustryActivityProcessor,\n",
    "    TypeMarketGroupsProcessor\n",
    "]\n",
    "\n",
    "sde = SdeUpdater(\n",
    "    processors,\n",
    "    sde_url='https://cdn1.eveonline.com/data/sde/tranquility/sde-20190911-2-TRANQUILITY.zip',\n",
    "    verbose=True,\n",
    "    diag=False\n",
    ")\n",
    "sde.run_process()"
   ]
  },
  {
   "cell_type": "code",
   "execution_count": null,
   "metadata": {},
   "outputs": [],
   "source": []
  }
 ],
 "metadata": {
  "kernelspec": {
   "display_name": "Python 3",
   "language": "python",
   "name": "python3"
  },
  "language_info": {
   "codemirror_mode": {
    "name": "ipython",
    "version": 3
   },
   "file_extension": ".py",
   "mimetype": "text/x-python",
   "name": "python",
   "nbconvert_exporter": "python",
   "pygments_lexer": "ipython3",
   "version": "3.7.4"
  }
 },
 "nbformat": 4,
 "nbformat_minor": 4
}
