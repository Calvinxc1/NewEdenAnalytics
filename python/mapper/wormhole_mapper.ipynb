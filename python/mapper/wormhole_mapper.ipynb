{
 "cells": [
  {
   "cell_type": "code",
   "execution_count": 1,
   "metadata": {},
   "outputs": [],
   "source": [
    "import pymongo as pm\n",
    "import mysql.connector as mdb\n",
    "import requests as rq\n",
    "import ujson as js\n",
    "import pandas as pd\n",
    "import numpy as np\n",
    "from datetime import datetime as dt\n",
    "from threading import Thread\n",
    "from time import sleep\n",
    "\n",
    "from utils.Container import Container"
   ]
  },
  {
   "cell_type": "code",
   "execution_count": 2,
   "metadata": {},
   "outputs": [],
   "source": [
    "class CharState:\n",
    "    _urls = Container(\n",
    "        location='https://esi.evetech.net/latest/characters/{char_id}/location/',\n",
    "        online='https://esi.evetech.net/latest/characters/{char_id}/online/',\n",
    "        ship='https://esi.evetech.net/latest/characters/{char_id}/ship/'\n",
    "    )\n",
    "    _args = Container(\n",
    "        headers=Container(\n",
    "            accept='application/json',\n",
    "            Authorization='Bearer {token}'\n",
    "        ),\n",
    "        params=Container(datasource='tranquility')\n",
    "    )\n",
    "    \n",
    "    def __init__(self, char_id,\n",
    "                 sleep_time=1, url_retrys=5,\n",
    "                 mongo_login_path='./../../settings/mongo_login.json',\n",
    "                 maria_login_path='./../../settings/maria_login.json'):\n",
    "        self.char_id = char_id\n",
    "        self._build_conns(mongo_login_path, maria_login_path)\n",
    "        self._data = Container()\n",
    "        self._threads = Container()\n",
    "        self.sleep_time = sleep_time\n",
    "        self.url_retrys = url_retrys\n",
    "        \n",
    "        self._token = Container(\n",
    "            db='NewEdenAnalytics',\n",
    "            coll='eve_characters',\n",
    "            value=None,\n",
    "            expires=None\n",
    "        )\n",
    "        \n",
    "        now_time = dt.utcnow()\n",
    "        self.refresh = Container()\n",
    "        for key in self._urls: self.refresh[key] = now_time\n",
    "            \n",
    "    @property\n",
    "    def args(self):\n",
    "        args = self._args._dict\n",
    "        args['headers']['Authorization'] = args['headers']['Authorization'].format(token=self._token.value)\n",
    "        return args\n",
    "    \n",
    "    def start_threads(self):\n",
    "        self._start_token_thread()\n",
    "        self._start_data_thread()\n",
    "            \n",
    "    def _start_data_thread(self):\n",
    "        self._threads.data = Thread(target=self._load_data_thread, daemon=True)\n",
    "        self._threads.data.start()\n",
    "        \n",
    "    def _start_token_thread(self):\n",
    "        self._threads.token = Thread(target=self._refresh_token_thread, daemon=True)\n",
    "        self._threads.token.start()\n",
    "    \n",
    "    def _build_conns(self, mongo_login_path, maria_login_path):\n",
    "        with open(mongo_login_path) as file_mongo, \\\n",
    "             open(maria_login_path) as file_maria:\n",
    "            self.conn = Container(\n",
    "                mongo=pm.MongoClient(**js.load(file_mongo)),\n",
    "                maria=mdb.connect(**js.load(file_maria)),\n",
    "                url=rq.Session()\n",
    "            )\n",
    "        \n",
    "    def refresh_token(self):\n",
    "        token_data = self.conn.mongo[self._token.db][self._token.coll].find_one(\n",
    "            {'_id':self.char_id},\n",
    "            {'tokens.access_token':1, 'tokens.expires_on':1}\n",
    "        )['tokens']\n",
    "        self._token.value = token_data['access_token']\n",
    "        self._token.expires = token_data['expires_on']\n",
    "        \n",
    "    def _token_thread(self):\n",
    "        while True:\n",
    "            self.refresh_token()\n",
    "            sleep_time = ((self._token.expires - dt.utcnow()).seconds / 60) - 2\n",
    "            sleep(sleep_time)\n",
    "        \n",
    "    def _data_thread(self):\n",
    "        while True:\n",
    "            for key in self._urls:\n",
    "                self.get_data(key)\n",
    "            sleep(self.sleep_time)\n",
    "    \n",
    "    def _call_url(self, method, url, args):\n",
    "        for _ in range(self.url_retrys):\n",
    "            resp = rq.request(method, url, **args)\n",
    "            if resp.status_code == 200: break\n",
    "            sleep(0.01)\n",
    "        if resp.status_code == 200:\n",
    "            return resp\n",
    "        else:\n",
    "            return None\n",
    "        \n",
    "    def get_data(self, data_key):\n",
    "        if dt.utcnow() > self.refresh[data_key]:\n",
    "            resp = self._call_url('get', self._urls[data_key].format(char_id=self.char_id), self.args)\n",
    "            if resp is not None:\n",
    "                self.refresh[data_key] = dt.strptime(resp.headers['Expires'], '%a, %d %b %Y %H:%M:%S %Z')\n",
    "                for key, val in js.loads(resp.content).items():\n",
    "                    self._data[key] = val"
   ]
  },
  {
   "cell_type": "code",
   "execution_count": 3,
   "metadata": {},
   "outputs": [],
   "source": [
    "char_state = CharState(144981811)"
   ]
  },
  {
   "cell_type": "code",
   "execution_count": 4,
   "metadata": {},
   "outputs": [],
   "source": [
    "char_state.start_threads()"
   ]
  },
  {
   "cell_type": "code",
   "execution_count": 8,
   "metadata": {},
   "outputs": [
    {
     "data": {
      "text/plain": [
       "{'online': True,\n",
       " 'last_login': '2019-10-01T22:58:35Z',\n",
       " 'ship_item_id': 1031127222320,\n",
       " 'last_logout': '2019-10-01T13:17:34Z',\n",
       " 'ship_type_id': 33468,\n",
       " 'logins': 6369,\n",
       " 'ship_name': 'Streamslip',\n",
       " 'solar_system_id': 31001422}"
      ]
     },
     "execution_count": 8,
     "metadata": {},
     "output_type": "execute_result"
    }
   ],
   "source": [
    "char_state._data._dict"
   ]
  },
  {
   "cell_type": "code",
   "execution_count": 9,
   "metadata": {},
   "outputs": [
    {
     "data": {
      "text/plain": [
       "{'data': <Thread(Thread-5, started daemon 139996165043968)>,\n",
       " 'token': <Thread(Thread-4, started daemon 139996173436672)>}"
      ]
     },
     "execution_count": 9,
     "metadata": {},
     "output_type": "execute_result"
    }
   ],
   "source": [
    "char_state._threads._dict"
   ]
  }
 ],
 "metadata": {
  "kernelspec": {
   "display_name": "Python 3",
   "language": "python",
   "name": "python3"
  },
  "language_info": {
   "codemirror_mode": {
    "name": "ipython",
    "version": 3
   },
   "file_extension": ".py",
   "mimetype": "text/x-python",
   "name": "python",
   "nbconvert_exporter": "python",
   "pygments_lexer": "ipython3",
   "version": "3.7.4"
  }
 },
 "nbformat": 4,
 "nbformat_minor": 4
}
