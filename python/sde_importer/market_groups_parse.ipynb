{
 "cells": [
  {
   "cell_type": "code",
   "execution_count": 1,
   "metadata": {
    "collapsed": true
   },
   "outputs": [],
   "source": [
    "from parser_root import ParserRoot"
   ]
  },
  {
   "cell_type": "code",
   "execution_count": 2,
   "metadata": {
    "collapsed": true
   },
   "outputs": [],
   "source": [
    "class ParserMarketGroups(ParserRoot):\n",
    "    file_path = 'sde/bsd'\n",
    "    file_name = 'invMarketGroups.yaml'\n",
    "    parse_structure = {\n",
    "        'root': {\n",
    "            'sequence': (\n",
    "                '{SDE', 'marketGroupID', 'marketGroupName', 'description',\n",
    "                'parentGroupID', 'iconID', 'hasTypes'\n",
    "            ),\n",
    "            'sql': {\n",
    "                'table': 'MarketGroups',\n",
    "                'cols': (\n",
    "                    'sde_version', 'market_group_id', 'market_group_name', 'market_group_desc',\n",
    "                    'parent_group_id', 'icon_id', 'has_types'\n",
    "                )\n",
    "            }\n",
    "        }\n",
    "    }"
   ]
  },
  {
   "cell_type": "code",
   "execution_count": 3,
   "metadata": {},
   "outputs": [
    {
     "data": {
      "text/plain": [
       "<__main__.ParserMarketGroups at 0x120041accf8>"
      ]
     },
     "execution_count": 3,
     "metadata": {},
     "output_type": "execute_result"
    }
   ],
   "source": [
    "ParserMarketGroups('sde-20180323-TRANQUILITY')"
   ]
  }
 ],
 "metadata": {
  "kernelspec": {
   "display_name": "Python 3",
   "language": "python",
   "name": "python3"
  },
  "language_info": {
   "codemirror_mode": {
    "name": "ipython",
    "version": 3
   },
   "file_extension": ".py",
   "mimetype": "text/x-python",
   "name": "python",
   "nbconvert_exporter": "python",
   "pygments_lexer": "ipython3",
   "version": "3.6.3"
  }
 },
 "nbformat": 4,
 "nbformat_minor": 2
}
