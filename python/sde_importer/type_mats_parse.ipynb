{
 "cells": [
  {
   "cell_type": "code",
   "execution_count": 1,
   "metadata": {},
   "outputs": [],
   "source": [
    "from parser_root import ParserRoot"
   ]
  },
  {
   "cell_type": "code",
   "execution_count": 3,
   "metadata": {},
   "outputs": [],
   "source": [
    "class ParserTypeMats(ParserRoot):\n",
    "    file_path = 'sde/bsd'\n",
    "    file_name = 'invTypeMaterials.yaml'\n",
    "    parse_structure = {\n",
    "        'root': {\n",
    "            'sequence': ('{SDE', 'typeID', 'materialTypeID', 'quantity'),\n",
    "            'sql': {\n",
    "                'table': 'TypeMaterials',\n",
    "                'cols': ('sde_version', 'type_id', 'mat_type_id', 'quantity')\n",
    "            }\n",
    "        }\n",
    "    }"
   ]
  },
  {
   "cell_type": "code",
   "execution_count": 5,
   "metadata": {},
   "outputs": [
    {
     "data": {
      "text/plain": [
       "<__main__.ParserTypeMats at 0x7fb5c0115860>"
      ]
     },
     "execution_count": 5,
     "metadata": {},
     "output_type": "execute_result"
    }
   ],
   "source": [
    "ParserTypeMats('sde-20180323-TRANQUILITY')"
   ]
  }
 ],
 "metadata": {
  "kernelspec": {
   "display_name": "Python 3",
   "language": "python",
   "name": "python3"
  },
  "language_info": {
   "codemirror_mode": {
    "name": "ipython",
    "version": 3
   },
   "file_extension": ".py",
   "mimetype": "text/x-python",
   "name": "python",
   "nbconvert_exporter": "python",
   "pygments_lexer": "ipython3",
   "version": "3.6.4"
  }
 },
 "nbformat": 4,
 "nbformat_minor": 2
}
