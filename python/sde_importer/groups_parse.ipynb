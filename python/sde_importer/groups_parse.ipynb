{
 "cells": [
  {
   "cell_type": "code",
   "execution_count": 1,
   "metadata": {},
   "outputs": [],
   "source": [
    "from parser_root import ParserRoot"
   ]
  },
  {
   "cell_type": "code",
   "execution_count": 2,
   "metadata": {},
   "outputs": [],
   "source": [
    "class ParserGroups(ParserRoot):\n",
    "    file_path = 'sde/fsd'\n",
    "    file_name = 'groupIDs.yaml'\n",
    "    parse_structure = {\n",
    "        'root': {\n",
    "            'sequence': (\n",
    "                '{SDE', '{KEY_root', 'name.en', 'categoryID',\n",
    "                'iconID', 'anchorable', 'anchored', 'fittableNonSingleton',\n",
    "                'published', 'useBasePrice'\n",
    "            ),\n",
    "            'sql': {\n",
    "                'table': 'TypeGroups',\n",
    "                'cols': (\n",
    "                    'sde_version', 'group_id', 'group_name', 'category_id',\n",
    "                    'icon_id', 'anchorable', 'anchored', 'fittable_non_singleton',\n",
    "                    'published', 'use_base_price'\n",
    "                )\n",
    "            }\n",
    "        }\n",
    "    }"
   ]
  },
  {
   "cell_type": "code",
   "execution_count": 3,
   "metadata": {},
   "outputs": [
    {
     "data": {
      "text/plain": [
       "<__main__.ParserGroups at 0x7fc0100cbb70>"
      ]
     },
     "execution_count": 3,
     "metadata": {},
     "output_type": "execute_result"
    }
   ],
   "source": [
    "ParserGroups('sde-20180323-TRANQUILITY')"
   ]
  }
 ],
 "metadata": {
  "kernelspec": {
   "display_name": "Python 3",
   "language": "python",
   "name": "python3"
  },
  "language_info": {
   "codemirror_mode": {
    "name": "ipython",
    "version": 3
   },
   "file_extension": ".py",
   "mimetype": "text/x-python",
   "name": "python",
   "nbconvert_exporter": "python",
   "pygments_lexer": "ipython3",
   "version": "3.6.4"
  }
 },
 "nbformat": 4,
 "nbformat_minor": 2
}
