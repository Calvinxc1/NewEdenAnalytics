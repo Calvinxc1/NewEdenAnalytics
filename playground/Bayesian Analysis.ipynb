{
 "cells": [
  {
   "cell_type": "code",
   "execution_count": 87,
   "metadata": {},
   "outputs": [],
   "source": [
    "import pandas as pd\n",
    "import numpy as np\n",
    "import mysql.connector as mdb\n",
    "import json as js\n",
    "from matplotlib import pyplot as plt\n",
    "import seaborn as sns\n",
    "from tqdm import tqdm_notebook as tqdm, tnrange as trange\n",
    "from scipy.stats import poisson, norm, gaussian_kde as kde\n",
    "\n",
    "pd.plotting.register_matplotlib_converters()\n",
    "sns.set()"
   ]
  },
  {
   "cell_type": "code",
   "execution_count": 88,
   "metadata": {},
   "outputs": [],
   "source": [
    "with open('./../settings/maria_login.json') as file:\n",
    "    conn = mdb.connect(**js.load(file))"
   ]
  },
  {
   "cell_type": "code",
   "execution_count": 89,
   "metadata": {},
   "outputs": [],
   "source": [
    "dataset = pd.read_sql(\"\"\"\\\n",
    "SELECT Market.record_date,\n",
    "\tMarket.volume,\n",
    "\tMarket.avg_price\n",
    "FROM MarketHistory AS Market\n",
    "WHERE Market.record_date >= '2019-01-01'\n",
    "\tAND Market.region_id = 10000043\n",
    "\tAND Market.type_id = 34\n",
    ";\"\"\", conn)\n",
    "dataset = pd.DataFrame(\n",
    "    index=pd.date_range(dataset['record_date'].min(), dataset['record_date'].max())\n",
    ").join(dataset.set_index('record_date'))\n",
    "dataset['avg_price'] = dataset['avg_price'].fillna(method='ffill').fillna(method='bfill')\n",
    "dataset['volume'] = dataset['volume'].fillna(0)"
   ]
  },
  {
   "cell_type": "code",
   "execution_count": 90,
   "metadata": {},
   "outputs": [],
   "source": [
    "class Anneal:\n",
    "    def __init__(self, data_set, temp, temp_target=0, ascend=True, settings={}, verbose=False):\n",
    "        self.data_set = data_set\n",
    "        self.temp = temp\n",
    "        self.temp_target = temp_target\n",
    "        self.ascend = ascend\n",
    "        self.verbose = verbose\n",
    "        self.settings = settings\n",
    "        \n",
    "        self.metric = None\n",
    "        self.coefs = {}\n",
    "        \n",
    "    def run_process(self, iters):\n",
    "        temps = self.build_temps(self.temp, self.temp_target, iters)\n",
    "        t = tqdm(temps) if self.verbose else temps\n",
    "        for temp in t:\n",
    "            coefs, metric = self.generate()\n",
    "            accept = self.calc_accept(metric, self.metric, temp, self.ascend)\n",
    "            self.update(coefs, metric, accept)\n",
    "            if self.verbose: t.set_postfix(dict(coefs=self.coefs, temp=temp, metric=self.metric))\n",
    "                \n",
    "    def build_temps(self, temp, target, iters):\n",
    "        temps = np.arange(temp, target, (target - temp) / iters)\n",
    "        return temps\n",
    "    \n",
    "    def generate(self):\n",
    "        coefs = {}\n",
    "        coefs['tau'] = np.random.randint(1, len(self.data_set), size=self.settings['splits'])\n",
    "        coefs['tau'].sort()\n",
    "        coefs['mu'] = np.random.uniform(self.data_set.min(), self.data_set.max(), size=self.settings['splits']+1)\n",
    "        coefs['sigma'] = np.random.uniform(0, self.data_set.std(), size=self.settings['splits']+1)\n",
    "        \n",
    "        metric = []\n",
    "        for data, mu, sigma in zip(np.split(self.data_set, coefs['tau']), coefs['mu'], coefs['sigma']):\n",
    "            metric.append(norm(loc=mu, scale=sigma).logpdf(data))\n",
    "        metric = np.concatenate(metric, axis=0).mean()\n",
    "        return (coefs, metric)\n",
    "    \n",
    "    \"\"\"\n",
    "    def generate(self):\n",
    "        coefs = {}\n",
    "        coefs['tau'] = np.random.randint(1, len(self.data_set), size=self.settings['splits'])\n",
    "        coefs['tau'].sort()\n",
    "        coefs['mu'] = np.random.uniform(self.data_set.min(), self.data_set.max(), size=self.settings['splits']+1)\n",
    "        \n",
    "        metric = []\n",
    "        for data, mu in zip(np.split(self.data_set, coefs['tau']), coefs['mu']):\n",
    "            metric.append(poisson(mu=mu).logpmf(data))\n",
    "        metric = np.concatenate(metric, axis=0).mean()\n",
    "        return (coefs, metric)\n",
    "    \"\"\"\n",
    "    \n",
    "    def calc_accept(self, current_metric, old_metric, temp, ascend):\n",
    "        if old_metric is None: return 1\n",
    "        accept = current_metric - old_metric if ascend else old_metric - current_metric\n",
    "        accept = np.exp(accept / temp)\n",
    "        return accept\n",
    "    \n",
    "    def update(self, coefs, metric, accept):\n",
    "        if accept > np.random.uniform():\n",
    "            self.metric = metric\n",
    "            self.coefs = coefs"
   ]
  },
  {
   "cell_type": "code",
   "execution_count": 91,
   "metadata": {},
   "outputs": [
    {
     "data": {
      "application/vnd.jupyter.widget-view+json": {
       "model_id": "2363a7d8a13045d8ac659d7bc97cd80c",
       "version_major": 2,
       "version_minor": 0
      },
      "text/plain": [
       "HBox(children=(IntProgress(value=0, max=25000), HTML(value='')))"
      ]
     },
     "metadata": {},
     "output_type": "display_data"
    },
    {
     "name": "stdout",
     "output_type": "stream",
     "text": [
      "\n"
     ]
    },
    {
     "data": {
      "text/plain": [
       "{'tau': array([161]),\n",
       " 'mu': array([4.58361968, 5.78347221]),\n",
       " 'sigma': array([0.18968532, 0.75617417])}"
      ]
     },
     "execution_count": 91,
     "metadata": {},
     "output_type": "execute_result"
    }
   ],
   "source": [
    "anneal_data = dataset['avg_price']\n",
    "anneal = Anneal(anneal_data, temp=anneal_data.mean(), settings={'splits': 1}, verbose=True)\n",
    "anneal.run_process(25000)\n",
    "anneal.coefs"
   ]
  },
  {
   "cell_type": "code",
   "execution_count": 93,
   "metadata": {},
   "outputs": [
    {
     "data": {
      "text/plain": [
       "{'tau': array([161]),\n",
       " 'mu': array([4.58361968, 5.78347221]),\n",
       " 'sigma': array([0.18968532, 0.75617417])}"
      ]
     },
     "execution_count": 93,
     "metadata": {},
     "output_type": "execute_result"
    }
   ],
   "source": [
    "anneal.coefs"
   ]
  },
  {
   "cell_type": "code",
   "execution_count": null,
   "metadata": {},
   "outputs": [],
   "source": []
  }
 ],
 "metadata": {
  "kernelspec": {
   "display_name": "Python 3",
   "language": "python",
   "name": "python3"
  },
  "language_info": {
   "codemirror_mode": {
    "name": "ipython",
    "version": 3
   },
   "file_extension": ".py",
   "mimetype": "text/x-python",
   "name": "python",
   "nbconvert_exporter": "python",
   "pygments_lexer": "ipython3",
   "version": "3.7.3"
  }
 },
 "nbformat": 4,
 "nbformat_minor": 4
}
