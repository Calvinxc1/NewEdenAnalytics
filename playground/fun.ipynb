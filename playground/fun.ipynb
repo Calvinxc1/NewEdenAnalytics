{
 "cells": [
  {
   "cell_type": "code",
   "execution_count": 1,
   "metadata": {},
   "outputs": [],
   "source": [
    "import pandas as pd\n",
    "import numpy as np\n",
    "from matplotlib import pyplot as plt\n",
    "import seaborn as sns\n",
    "from copy import deepcopy as copy\n",
    "import tqdm"
   ]
  },
  {
   "cell_type": "code",
   "execution_count": 2,
   "metadata": {},
   "outputs": [],
   "source": [
    "class World:\n",
    "    def __init__(self, create=1.0, death=0.1, reproduce=0, seed=0):\n",
    "        \"\"\"\n",
    "        Parameters\n",
    "        ----------\n",
    "        create: float - % chance to create a new creature each turn.\n",
    "        death: float - % chance that any given creature dies each turn.\n",
    "        reproduce: float - % chance for any given creature to reproduce each turn\n",
    "        seed: int - How many creatures to initially seed with.\n",
    "        \"\"\"\n",
    "        \n",
    "        if (create < 0) | (create > 1):\n",
    "            raise Exception('%s is an invalid create, create must be between 0 and 1!' % create)\n",
    "        if (death < 0) | (death > 1):\n",
    "            raise Exception('%s is an invalid death, death must be between 0 and 1!' % death)\n",
    "        if (reproduce < 0) | (reproduce > 1):\n",
    "            raise Exception('%s is an invalid reproduce, reproduce must be between 0 and 1!' % reproduce)\n",
    "            \n",
    "        self.create = create\n",
    "        self.creature = {\n",
    "            'death': death,\n",
    "            'reproduce': reproduce\n",
    "        }\n",
    "        self.creatures = []\n",
    "        self.run_record = []\n",
    "        \n",
    "        self.new_creature(seed, 'seed')\n",
    "        \n",
    "    def run(self):\n",
    "        self.death_run()\n",
    "        self.reproduce_run()\n",
    "        self.create_run()\n",
    "        self.record()\n",
    "    \n",
    "    def death_run(self):\n",
    "        creature_death_prob = [creature['death'] for creature in sim.creatures]\n",
    "        creature_dies = np.random.rand(len(sim.creatures)) <= creature_death_prob\n",
    "        death_idx = np.flip(np.where(creature_dies == True)[0])\n",
    "        for idx in death_idx: del self.creatures[idx]\n",
    "            \n",
    "    def reproduce_run(self):\n",
    "        creature_reproduce_prob = [creature['reproduce'] for creature in sim.creatures]\n",
    "        creature_reproduces = np.random.rand(len(sim.creatures)) <= creature_reproduce_prob\n",
    "        reproduce_count = sum(creature_reproduces)\n",
    "        self.new_creature(reproduce_count, 'reproduce')\n",
    "    \n",
    "    def create_run(self):\n",
    "        if np.random.rand() <= self.create: self.new_creature(1, 'create')\n",
    "            \n",
    "    def new_creature(self, count, created_by):\n",
    "        new_creature = {\n",
    "            **self.creature,\n",
    "            'created_by': created_by\n",
    "        }\n",
    "        self.creatures.extend([new_creature]*count)\n",
    "            \n",
    "    def record(self):\n",
    "        creature_count = {\n",
    "            'seed': 0,\n",
    "            'create': 0,\n",
    "            'reproduce': 0\n",
    "        }\n",
    "        for creature in self.creatures:\n",
    "            creature_count[creature['created_by']] += 1\n",
    "        self.run_record.append(creature_count)"
   ]
  },
  {
   "cell_type": "code",
   "execution_count": 3,
   "metadata": {},
   "outputs": [
    {
     "data": {
      "application/vnd.jupyter.widget-view+json": {
       "model_id": "1273a3348751473ab67eea5a31849971",
       "version_major": 2,
       "version_minor": 0
      },
      "text/plain": [
       "HBox(children=(IntProgress(value=0, max=10000), HTML(value='')))"
      ]
     },
     "metadata": {},
     "output_type": "display_data"
    },
    {
     "name": "stdout",
     "output_type": "stream",
     "text": [
      "\n"
     ]
    }
   ],
   "source": [
    "sim = World(create=0.0, death=0.05, reproduce=0.0501, seed=100)\n",
    "t = tqdm.tnrange(10000)\n",
    "for _ in t:\n",
    "    sim.run()\n",
    "    t.set_postfix({'pop': len(sim.creatures)})"
   ]
  },
  {
   "cell_type": "code",
   "execution_count": 4,
   "metadata": {},
   "outputs": [
    {
     "name": "stdout",
     "output_type": "stream",
     "text": [
      "mean: 5.0242\n",
      "stdev: 14.806118210849437\n"
     ]
    }
   ],
   "source": [
    "print('mean:', pd.DataFrame(sim.run_record).sum(axis=1).mean())\n",
    "print('stdev:', pd.DataFrame(sim.run_record).sum(axis=1).std())"
   ]
  },
  {
   "cell_type": "code",
   "execution_count": 5,
   "metadata": {},
   "outputs": [
    {
     "data": {
      "text/plain": [
       "<matplotlib.axes._subplots.AxesSubplot at 0x7f108e12de10>"
      ]
     },
     "execution_count": 5,
     "metadata": {},
     "output_type": "execute_result"
    },
    {
     "data": {
      "text/plain": [
       "<Figure size 1296x720 with 0 Axes>"
      ]
     },
     "metadata": {},
     "output_type": "display_data"
    },
    {
     "data": {
      "image/png": "[encoded data removed]",
      "text/plain": [
       "<Figure size 432x288 with 1 Axes>"
      ]
     },
     "metadata": {
      "needs_background": "light"
     },
     "output_type": "display_data"
    }
   ],
   "source": [
    "plt.figure(figsize=(18,10))\n",
    "pd.DataFrame(sim.run_record).plot()"
   ]
  },
  {
   "cell_type": "code",
   "execution_count": null,
   "metadata": {},
   "outputs": [],
   "source": []
  }
 ],
 "metadata": {
  "kernelspec": {
   "display_name": "Python 3",
   "language": "python",
   "name": "python3"
  },
  "language_info": {
   "codemirror_mode": {
    "name": "ipython",
    "version": 3
   },
   "file_extension": ".py",
   "mimetype": "text/x-python",
   "name": "python",
   "nbconvert_exporter": "python",
   "pygments_lexer": "ipython3",
   "version": "3.7.3"
  }
 },
 "nbformat": 4,
 "nbformat_minor": 4
}
