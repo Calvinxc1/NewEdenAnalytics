{
 "cells": [
  {
   "cell_type": "code",
   "execution_count": 1,
   "metadata": {},
   "outputs": [],
   "source": [
    "import pandas as pd\n",
    "from datetime import datetime as dt, timedelta as td\n",
    "import mysql.connector as mdb\n",
    "import ujson as js\n",
    "\n",
    "from Api import Api\n",
    "import _CONST as CONST\n",
    "from utils.Container import Container"
   ]
  },
  {
   "cell_type": "code",
   "execution_count": 2,
   "metadata": {},
   "outputs": [],
   "source": [
    "CONST.RENAMES = {\n",
    "    'date': 'record_date',\n",
    "    'order_count': 'orders',\n",
    "    'highest': 'high_price',\n",
    "    'average': 'avg_price',\n",
    "    'lowest': 'low_price'\n",
    "}\n",
    "CONST.SQL.region_ids = 'SELECT region_id FROM MapRegions;'\n",
    "CONST.TABLE = 'MarketHistory'\n",
    "CONST.UPSERT = True\n",
    "CONST.URL.types = 'markets/{region_id}/types'\n",
    "CONST.URL.history = 'markets/{region_id}/history'"
   ]
  },
  {
   "cell_type": "code",
   "execution_count": 3,
   "metadata": {},
   "outputs": [],
   "source": [
    "class MarketHistoryApi(Api):\n",
    "    def __init__(self, lookback_days=7, verbose=False):\n",
    "        super().__init__(verbose=verbose)\n",
    "        self.lookback = (dt.now().date() - td(days=lookback_days)).isoformat()\n",
    "    \n",
    "    def run_process(self):\n",
    "        self._msg('Running Process...')\n",
    "        self._connect_maria(self.maria_login_path)\n",
    "        self.data_buffer = self._get_region_ids()\n",
    "        self.data_buffer = self._get_region_types(self.data_buffer)\n",
    "        self.data_buffer = self._get_region_data(self.data_buffer)\n",
    "        if self.data_buffer is not None: self._insert_data(self.data_buffer, self.table)\n",
    "        expires = self._load_etags(self.esi_record)\n",
    "        self.conn.maria.close()\n",
    "        self.data_buffer = None\n",
    "        self._msg('Process complete.')\n",
    "        return expires\n",
    "            \n",
    "    def _get_region_ids(self):\n",
    "        self._msg('Selecting Region IDs from MariaDB...')\n",
    "        region_ids = pd.read_sql(\n",
    "            self.sql.region_ids,\n",
    "            self.conn.maria\n",
    "        )['region_id'].values.tolist()\n",
    "        return region_ids\n",
    "    \n",
    "    def _get_region_types(self, region_ids:list):\n",
    "        self._msg('Retrieving Region Types from ESI...')\n",
    "        region_types = {\n",
    "            region_id: self.pool.apply(\n",
    "                self._parse_region_types,\n",
    "                args=(region_id,)\n",
    "            ).iloc[:, 0].values.tolist()\n",
    "            for region_id in self._tqdm(region_ids)\n",
    "        }\n",
    "        return region_types\n",
    "    \n",
    "    def _parse_region_types(self, region_id:int):\n",
    "        url = self._build_url('types').format(region_id=region_id)\n",
    "        data_items = self._esi_pull(url)\n",
    "        parsed_data = self._parse_data(data_items, {})\n",
    "        return parsed_data\n",
    "    \n",
    "    def _get_region_data(self, region_types:dict):\n",
    "        self._msg('Retrieving Region Market History from ESI...')\n",
    "        region_items = [\n",
    "            (region_id, type_id)\n",
    "            for region_id, type_ids in region_types.items()\n",
    "            for type_id in type_ids if type_ids is not None\n",
    "        ]\n",
    "        parsed_data = list(self._tqdm(self.pool.imap_unordered(\n",
    "            self._parse_region_data,\n",
    "            region_items\n",
    "        ), total=len(region_items)))\n",
    "        parsed_data = [data for data in parsed_data if data is not None]\n",
    "        if len(parsed_data) > 0:\n",
    "            parsed_data = pd.concat(parsed_data, ignore_index=True, sort=False)\n",
    "            return parsed_data\n",
    "        else:\n",
    "            return None\n",
    "        \n",
    "    def _parse_region_data(self, region_item:tuple):\n",
    "        region_id, type_id = region_item\n",
    "        url = self._build_url('history').format(region_id=region_id)\n",
    "        data_items = self._esi_pull(url, params={'type_id': type_id})\n",
    "        if isinstance(data_items, Container): return None\n",
    "        parsed_data = self._parse_data(data_items, self.renames, region_id=region_id, type_id=type_id)\n",
    "        parsed_data = self._filter_region_data(parsed_data)\n",
    "        return parsed_data\n",
    "        \n",
    "    def _filter_region_data(self, parsed_data:pd.DataFrame):\n",
    "        if 'record_date' not in parsed_data.columns: return None\n",
    "        \n",
    "        parsed_data = parsed_data.loc[parsed_data['record_date'] >= self.lookback]\n",
    "        \n",
    "        if len(parsed_data) == 0: return None\n",
    "        else: return parsed_data"
   ]
  },
  {
   "cell_type": "code",
   "execution_count": null,
   "metadata": {},
   "outputs": [
    {
     "name": "stdout",
     "output_type": "stream",
     "text": [
      "2019-10-09 12:09:57.390266:MarketHistoryApi - Running Process...\n",
      "2019-10-09 12:09:57.393709:MarketHistoryApi - Selecting Region IDs from MariaDB...\n",
      "2019-10-09 12:09:57.488015:MarketHistoryApi - Retrieving Region Types from ESI...\n"
     ]
    },
    {
     "data": {
      "application/vnd.jupyter.widget-view+json": {
       "model_id": "",
       "version_major": 2,
       "version_minor": 0
      },
      "text/plain": [
       "HBox(children=(IntProgress(value=0, max=106), HTML(value='')))"
      ]
     },
     "metadata": {},
     "output_type": "display_data"
    },
    {
     "name": "stdout",
     "output_type": "stream",
     "text": [
      "2019-10-09 12:10:42.833511:MarketHistoryApi - Retrieving Region Market History from ESI...\n"
     ]
    },
    {
     "data": {
      "application/vnd.jupyter.widget-view+json": {
       "model_id": "a407cdbee81e4556aab6f636bfb614a7",
       "version_major": 2,
       "version_minor": 0
      },
      "text/plain": [
       "HBox(children=(IntProgress(value=0, max=219635), HTML(value='')))"
      ]
     },
     "metadata": {},
     "output_type": "display_data"
    }
   ],
   "source": [
    "api = MarketHistoryApi(verbose=True)\n",
    "api.run_process()"
   ]
  },
  {
   "cell_type": "code",
   "execution_count": null,
   "metadata": {},
   "outputs": [],
   "source": []
  }
 ],
 "metadata": {
  "kernelspec": {
   "display_name": "Python 3",
   "language": "python",
   "name": "python3"
  },
  "language_info": {
   "codemirror_mode": {
    "name": "ipython",
    "version": 3
   },
   "file_extension": ".py",
   "mimetype": "text/x-python",
   "name": "python",
   "nbconvert_exporter": "python",
   "pygments_lexer": "ipython3",
   "version": "3.7.3"
  }
 },
 "nbformat": 4,
 "nbformat_minor": 4
}
