{
 "cells": [
  {
   "cell_type": "code",
   "execution_count": 1,
   "metadata": {},
   "outputs": [],
   "source": [
    "import os\n",
    "import shutil"
   ]
  },
  {
   "cell_type": "code",
   "execution_count": 2,
   "metadata": {},
   "outputs": [],
   "source": [
    "esi_folder = '/opt/esi_pulls'\n",
    "\n",
    "file_paths = []\n",
    "for path, dirs, files in os.walk('.'):\n",
    "    if '__pycache__' in path: continue\n",
    "    if '.ipynb_checkpoints' in path: continue\n",
    "    \n",
    "    for file in files:\n",
    "        if file.endswith('.ipynb'): continue\n",
    "        file_paths.append((path.replace('.',''), file))\n",
    "\n",
    "for path, file in file_paths:\n",
    "    file_loc = '.{path}/{file}'.format(path=path, file=file)\n",
    "    dest_loc = '{root}{path}'.format(root=esi_folder, path=path)\n",
    "    _ = shutil.copy(file_loc, dest_loc)\n",
    "    \n",
    "with open('{path}/_CONST.py'.format(path=esi_folder)) as file:\n",
    "    file_data = file.read()\n",
    "    \n",
    "with open('{path}/_CONST.py'.format(path=esi_folder), 'w') as file:\n",
    "    file.write(file_data.replace('../settings', 'settings'))"
   ]
  },
  {
   "cell_type": "code",
   "execution_count": null,
   "metadata": {},
   "outputs": [],
   "source": []
  }
 ],
 "metadata": {
  "kernelspec": {
   "display_name": "Python 3",
   "language": "python",
   "name": "python3"
  },
  "language_info": {
   "codemirror_mode": {
    "name": "ipython",
    "version": 3
   },
   "file_extension": ".py",
   "mimetype": "text/x-python",
   "name": "python",
   "nbconvert_exporter": "python",
   "pygments_lexer": "ipython3",
   "version": "3.7.3"
  }
 },
 "nbformat": 4,
 "nbformat_minor": 4
}
